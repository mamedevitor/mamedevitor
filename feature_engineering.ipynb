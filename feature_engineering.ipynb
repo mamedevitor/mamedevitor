{
 "cells": [
  {
   "cell_type": "code",
   "execution_count": 130,
   "id": "2f859b8a",
   "metadata": {},
   "outputs": [],
   "source": [
    "import pandas as pd\n",
    "import numpy as np\n",
    "from sklearn.model_selection import TimeSeriesSplit, GridSearchCV, train_test_split\n",
    "from sklearn.pipeline import Pipeline\n",
    "from sklearn.impute import SimpleImputer\n",
    "from sklearn.preprocessing import StandardScaler\n",
    "from sklearn.ensemble import RandomForestClassifier, GradientBoostingClassifier\n",
    "from sklearn.linear_model import LogisticRegression\n",
    "from sklearn.metrics import roc_auc_score, roc_curve, confusion_matrix\n",
    "from sklearn.calibration import calibration_curve\n",
    "import shap\n",
    "import matplotlib.pyplot as plt\n",
    "import joblib\n",
    "import warnings\n",
    "import openpyxl\n",
    "warnings.filterwarnings('ignore')\n",
    "\n",
    "from lightgbm import LGBMClassifier\n",
    "\n",
    "from sklearn.metrics import (\n",
    "    roc_auc_score, roc_curve,\n",
    "    f1_score, precision_score, recall_score,\n",
    "    accuracy_score, matthews_corrcoef\n",
    ")\n",
    "from sklearn.model_selection import TimeSeriesSplit\n",
    "from mlflow.models.signature import infer_signature\n",
    "\n",
    "import lightgbm as lgb\n",
    "import optuna\n",
    "import mlflow\n",
    "import mlflow.lightgbm"
   ]
  },
  {
   "cell_type": "code",
   "execution_count": 74,
   "id": "bbbdbf6d",
   "metadata": {},
   "outputs": [],
   "source": [
    "df = pd.read_csv('base_modelo.csv', parse_dates=['safra'], dayfirst=True)\n"
   ]
  },
  {
   "cell_type": "markdown",
   "id": "da4cc2e9",
   "metadata": {
    "tags": [
     "parameters"
    ]
   },
   "source": [
    "### Substituir nulos nas variáveis\n",
    "### Identificar colunas que contêm valores negativos\n",
    "### Definir as outras colunas sem valores negativos\n",
    "### Para as demais, penalizar ausência com -1\n",
    "### Para colunas com valores negativos, criar flag de missing e imputar com mediana"
   ]
  },
  {
   "cell_type": "code",
   "execution_count": 75,
   "id": "caf214eb",
   "metadata": {},
   "outputs": [],
   "source": [
    "var_cols = [col for col in df.columns if col.startswith('VAR_')]\n",
    "\n",
    "global_neg_cols = [col for col in var_cols if (df[col] < 0).any()]\n",
    "other_cols = [col for col in var_cols if col not in global_neg_cols]\n",
    "df[other_cols] = df[other_cols].fillna(-1)\n",
    "\n",
    "for col in global_neg_cols:\n",
    "    df[f\"{col}_missing\"] = df[col].isna().astype(int)\n",
    "    median_val = df[col].median()\n",
    "    df[col] = df[col].fillna(median_val)"
   ]
  },
  {
   "cell_type": "markdown",
   "id": "f6a8ccff",
   "metadata": {},
   "source": [
    "## Análise de completude das features"
   ]
  },
  {
   "cell_type": "code",
   "execution_count": 76,
   "id": "fb24c2e5",
   "metadata": {},
   "outputs": [
    {
     "data": {
      "application/vnd.microsoft.datawrangler.viewer.v0+json": {
       "columns": [
        {
         "name": "index",
         "rawType": "object",
         "type": "string"
        },
        {
         "name": "count_0",
         "rawType": "int64",
         "type": "integer"
        },
        {
         "name": "count_-1",
         "rawType": "int64",
         "type": "integer"
        },
        {
         "name": "mode",
         "rawType": "float64",
         "type": "float"
        },
        {
         "name": "count_mode",
         "rawType": "int64",
         "type": "integer"
        },
        {
         "name": "total",
         "rawType": "int64",
         "type": "integer"
        },
        {
         "name": "pc_0",
         "rawType": "float64",
         "type": "float"
        },
        {
         "name": "pc_-1",
         "rawType": "float64",
         "type": "float"
        },
        {
         "name": "pc_moda",
         "rawType": "float64",
         "type": "float"
        }
       ],
       "ref": "478732c9-b90e-4bb9-81aa-054f550ced84",
       "rows": [
        [
         "VAR_1",
         "3376",
         "416",
         "0.0",
         "3376",
         "10738",
         "0.31",
         "0.04",
         "0.31"
        ],
        [
         "VAR_2",
         "9125",
         "416",
         "0.0",
         "9125",
         "10738",
         "0.85",
         "0.04",
         "0.85"
        ],
        [
         "VAR_3",
         "8528",
         "416",
         "0.0",
         "8528",
         "10738",
         "0.79",
         "0.04",
         "0.79"
        ],
        [
         "VAR_4",
         "7163",
         "416",
         "0.0",
         "7163",
         "10738",
         "0.67",
         "0.04",
         "0.67"
        ],
        [
         "VAR_5",
         "0",
         "4060",
         "-1.0",
         "4060",
         "10738",
         "0.0",
         "0.38",
         "0.38"
        ],
        [
         "VAR_6",
         "0",
         "0",
         "878.0",
         "98",
         "10738",
         "0.0",
         "0.0",
         "0.01"
        ],
        [
         "VAR_7",
         "0",
         "4632",
         "-1.0",
         "4632",
         "10738",
         "0.0",
         "0.43",
         "0.43"
        ],
        [
         "VAR_8",
         "0",
         "4833",
         "-1.0",
         "4833",
         "10738",
         "0.0",
         "0.45",
         "0.45"
        ],
        [
         "VAR_9",
         "0",
         "0",
         "1000.0",
         "2196",
         "10738",
         "0.0",
         "0.0",
         "0.2"
        ],
        [
         "VAR_10",
         "0",
         "5565",
         "-1.0",
         "5565",
         "10738",
         "0.0",
         "0.52",
         "0.52"
        ],
        [
         "VAR_11",
         "0",
         "4984",
         "-1.0",
         "4984",
         "10738",
         "0.0",
         "0.46",
         "0.46"
        ],
        [
         "VAR_12",
         "0",
         "7197",
         "-1.0",
         "7197",
         "10738",
         "0.0",
         "0.67",
         "0.67"
        ],
        [
         "VAR_13",
         "0",
         "5218",
         "-1.0",
         "5218",
         "10738",
         "0.0",
         "0.49",
         "0.49"
        ],
        [
         "VAR_14",
         "0",
         "5541",
         "-1.0",
         "5541",
         "10738",
         "0.0",
         "0.52",
         "0.52"
        ],
        [
         "VAR_15",
         "0",
         "5054",
         "-1.0",
         "5054",
         "10738",
         "0.0",
         "0.47",
         "0.47"
        ],
        [
         "VAR_16",
         "753",
         "7107",
         "-1.0",
         "7107",
         "10738",
         "0.07",
         "0.66",
         "0.66"
        ],
        [
         "VAR_17",
         "0",
         "4501",
         "-1.0",
         "4501",
         "10738",
         "0.0",
         "0.42",
         "0.42"
        ],
        [
         "VAR_18",
         "0",
         "7123",
         "-1.0",
         "7123",
         "10738",
         "0.0",
         "0.66",
         "0.66"
        ],
        [
         "VAR_19",
         "7188",
         "61",
         "0.0",
         "7188",
         "10738",
         "0.67",
         "0.01",
         "0.67"
        ],
        [
         "VAR_20",
         "0",
         "0",
         "12.0",
         "7507",
         "10738",
         "0.0",
         "0.0",
         "0.7"
        ],
        [
         "VAR_21",
         "0",
         "7123",
         "-1.0",
         "7123",
         "10738",
         "0.0",
         "0.66",
         "0.66"
        ],
        [
         "VAR_22",
         "7124",
         "61",
         "0.0",
         "7124",
         "10738",
         "0.66",
         "0.01",
         "0.66"
        ],
        [
         "VAR_23",
         "0",
         "5565",
         "-1.0",
         "5565",
         "10738",
         "0.0",
         "0.52",
         "0.52"
        ],
        [
         "VAR_24",
         "0",
         "4060",
         "-1.0",
         "4060",
         "10738",
         "0.0",
         "0.38",
         "0.38"
        ],
        [
         "VAR_25",
         "7132",
         "61",
         "0.0",
         "7132",
         "10738",
         "0.66",
         "0.01",
         "0.66"
        ],
        [
         "VAR_26",
         "493",
         "20",
         "220.0",
         "5546",
         "10738",
         "0.05",
         "0.0",
         "0.52"
        ],
        [
         "VAR_27",
         "0",
         "5934",
         "-1.0",
         "5934",
         "10738",
         "0.0",
         "0.55",
         "0.55"
        ],
        [
         "VAR_28",
         "6955",
         "61",
         "0.0",
         "6955",
         "10738",
         "0.65",
         "0.01",
         "0.65"
        ],
        [
         "VAR_29",
         "459",
         "196",
         "4.0",
         "6122",
         "10738",
         "0.04",
         "0.02",
         "0.57"
        ],
        [
         "VAR_30",
         "0",
         "48",
         "1000.0",
         "1556",
         "10738",
         "0.0",
         "0.0",
         "0.14"
        ],
        [
         "VAR_31",
         "2450",
         "5831",
         "-1.0",
         "5831",
         "10738",
         "0.23",
         "0.54",
         "0.54"
        ],
        [
         "VAR_32",
         "0",
         "0",
         "0.133832912727673",
         "7127",
         "10738",
         "0.0",
         "0.0",
         "0.66"
        ],
        [
         "VAR_33",
         "7133",
         "61",
         "0.0",
         "7133",
         "10738",
         "0.66",
         "0.01",
         "0.66"
        ],
        [
         "VAR_34",
         "0",
         "4833",
         "-1.0",
         "4833",
         "10738",
         "0.0",
         "0.45",
         "0.45"
        ],
        [
         "VAR_35",
         "0",
         "4984",
         "-1.0",
         "4984",
         "10738",
         "0.0",
         "0.46",
         "0.46"
        ],
        [
         "VAR_36",
         "1758",
         "7268",
         "-1.0",
         "7268",
         "10738",
         "0.16",
         "0.68",
         "0.68"
        ],
        [
         "VAR_37",
         "478",
         "189",
         "3.0",
         "6324",
         "10738",
         "0.04",
         "0.02",
         "0.59"
        ],
        [
         "VAR_38",
         "0",
         "4632",
         "-1.0",
         "4632",
         "10738",
         "0.0",
         "0.43",
         "0.43"
        ],
        [
         "VAR_39",
         "0",
         "5218",
         "-1.0",
         "5218",
         "10738",
         "0.0",
         "0.49",
         "0.49"
        ],
        [
         "VAR_40",
         "5607",
         "61",
         "0.0",
         "5607",
         "10738",
         "0.52",
         "0.01",
         "0.52"
        ],
        [
         "VAR_41",
         "1820",
         "7024",
         "-1.0",
         "7024",
         "10738",
         "0.17",
         "0.65",
         "0.65"
        ],
        [
         "VAR_42",
         "427",
         "181",
         "5.0",
         "5907",
         "10738",
         "0.04",
         "0.02",
         "0.55"
        ],
        [
         "VAR_43",
         "0",
         "7197",
         "-1.0",
         "7197",
         "10738",
         "0.0",
         "0.67",
         "0.67"
        ],
        [
         "VAR_44",
         "5302",
         "61",
         "0.0",
         "5302",
         "10738",
         "0.49",
         "0.01",
         "0.49"
        ],
        [
         "VAR_45",
         "0",
         "5218",
         "-1.0",
         "5218",
         "10738",
         "0.0",
         "0.49",
         "0.49"
        ],
        [
         "VAR_46",
         "409",
         "170",
         "6.0",
         "5806",
         "10738",
         "0.04",
         "0.02",
         "0.54"
        ],
        [
         "VAR_47",
         "2841",
         "7105",
         "-1.0",
         "7105",
         "10738",
         "0.26",
         "0.66",
         "0.66"
        ],
        [
         "VAR_48",
         "480",
         "220",
         "2.0",
         "6669",
         "10738",
         "0.04",
         "0.02",
         "0.62"
        ],
        [
         "VAR_49",
         "1704",
         "7296",
         "-1.0",
         "7296",
         "10738",
         "0.16",
         "0.68",
         "0.68"
        ],
        [
         "VAR_50",
         "0",
         "6609",
         "-1.0",
         "6609",
         "10738",
         "0.0",
         "0.62",
         "0.62"
        ]
       ],
       "shape": {
        "columns": 8,
        "rows": 78
       }
      },
      "text/html": [
       "<div>\n",
       "<style scoped>\n",
       "    .dataframe tbody tr th:only-of-type {\n",
       "        vertical-align: middle;\n",
       "    }\n",
       "\n",
       "    .dataframe tbody tr th {\n",
       "        vertical-align: top;\n",
       "    }\n",
       "\n",
       "    .dataframe thead th {\n",
       "        text-align: right;\n",
       "    }\n",
       "</style>\n",
       "<table border=\"1\" class=\"dataframe\">\n",
       "  <thead>\n",
       "    <tr style=\"text-align: right;\">\n",
       "      <th></th>\n",
       "      <th>count_0</th>\n",
       "      <th>count_-1</th>\n",
       "      <th>mode</th>\n",
       "      <th>count_mode</th>\n",
       "      <th>total</th>\n",
       "      <th>pc_0</th>\n",
       "      <th>pc_-1</th>\n",
       "      <th>pc_moda</th>\n",
       "    </tr>\n",
       "  </thead>\n",
       "  <tbody>\n",
       "    <tr>\n",
       "      <th>VAR_1</th>\n",
       "      <td>3376</td>\n",
       "      <td>416</td>\n",
       "      <td>0.00</td>\n",
       "      <td>3376</td>\n",
       "      <td>10738</td>\n",
       "      <td>0.31</td>\n",
       "      <td>0.04</td>\n",
       "      <td>0.31</td>\n",
       "    </tr>\n",
       "    <tr>\n",
       "      <th>VAR_2</th>\n",
       "      <td>9125</td>\n",
       "      <td>416</td>\n",
       "      <td>0.00</td>\n",
       "      <td>9125</td>\n",
       "      <td>10738</td>\n",
       "      <td>0.85</td>\n",
       "      <td>0.04</td>\n",
       "      <td>0.85</td>\n",
       "    </tr>\n",
       "    <tr>\n",
       "      <th>VAR_3</th>\n",
       "      <td>8528</td>\n",
       "      <td>416</td>\n",
       "      <td>0.00</td>\n",
       "      <td>8528</td>\n",
       "      <td>10738</td>\n",
       "      <td>0.79</td>\n",
       "      <td>0.04</td>\n",
       "      <td>0.79</td>\n",
       "    </tr>\n",
       "    <tr>\n",
       "      <th>VAR_4</th>\n",
       "      <td>7163</td>\n",
       "      <td>416</td>\n",
       "      <td>0.00</td>\n",
       "      <td>7163</td>\n",
       "      <td>10738</td>\n",
       "      <td>0.67</td>\n",
       "      <td>0.04</td>\n",
       "      <td>0.67</td>\n",
       "    </tr>\n",
       "    <tr>\n",
       "      <th>VAR_5</th>\n",
       "      <td>0</td>\n",
       "      <td>4060</td>\n",
       "      <td>-1.00</td>\n",
       "      <td>4060</td>\n",
       "      <td>10738</td>\n",
       "      <td>0.00</td>\n",
       "      <td>0.38</td>\n",
       "      <td>0.38</td>\n",
       "    </tr>\n",
       "    <tr>\n",
       "      <th>...</th>\n",
       "      <td>...</td>\n",
       "      <td>...</td>\n",
       "      <td>...</td>\n",
       "      <td>...</td>\n",
       "      <td>...</td>\n",
       "      <td>...</td>\n",
       "      <td>...</td>\n",
       "      <td>...</td>\n",
       "    </tr>\n",
       "    <tr>\n",
       "      <th>VAR_74</th>\n",
       "      <td>3932</td>\n",
       "      <td>5541</td>\n",
       "      <td>-1.00</td>\n",
       "      <td>5541</td>\n",
       "      <td>10738</td>\n",
       "      <td>0.37</td>\n",
       "      <td>0.52</td>\n",
       "      <td>0.52</td>\n",
       "    </tr>\n",
       "    <tr>\n",
       "      <th>VAR_75</th>\n",
       "      <td>0</td>\n",
       "      <td>7024</td>\n",
       "      <td>-1.00</td>\n",
       "      <td>7024</td>\n",
       "      <td>10738</td>\n",
       "      <td>0.00</td>\n",
       "      <td>0.65</td>\n",
       "      <td>0.65</td>\n",
       "    </tr>\n",
       "    <tr>\n",
       "      <th>VAR_76</th>\n",
       "      <td>112</td>\n",
       "      <td>0</td>\n",
       "      <td>318.28</td>\n",
       "      <td>4552</td>\n",
       "      <td>10738</td>\n",
       "      <td>0.01</td>\n",
       "      <td>0.00</td>\n",
       "      <td>0.42</td>\n",
       "    </tr>\n",
       "    <tr>\n",
       "      <th>VAR_77</th>\n",
       "      <td>2677</td>\n",
       "      <td>5565</td>\n",
       "      <td>-1.00</td>\n",
       "      <td>5565</td>\n",
       "      <td>10738</td>\n",
       "      <td>0.25</td>\n",
       "      <td>0.52</td>\n",
       "      <td>0.52</td>\n",
       "    </tr>\n",
       "    <tr>\n",
       "      <th>VAR_78</th>\n",
       "      <td>3946</td>\n",
       "      <td>5541</td>\n",
       "      <td>-1.00</td>\n",
       "      <td>5541</td>\n",
       "      <td>10738</td>\n",
       "      <td>0.37</td>\n",
       "      <td>0.52</td>\n",
       "      <td>0.52</td>\n",
       "    </tr>\n",
       "  </tbody>\n",
       "</table>\n",
       "<p>78 rows × 8 columns</p>\n",
       "</div>"
      ],
      "text/plain": [
       "        count_0  count_-1    mode  count_mode  total  pc_0  pc_-1  pc_moda\n",
       "VAR_1      3376       416    0.00        3376  10738  0.31   0.04     0.31\n",
       "VAR_2      9125       416    0.00        9125  10738  0.85   0.04     0.85\n",
       "VAR_3      8528       416    0.00        8528  10738  0.79   0.04     0.79\n",
       "VAR_4      7163       416    0.00        7163  10738  0.67   0.04     0.67\n",
       "VAR_5         0      4060   -1.00        4060  10738  0.00   0.38     0.38\n",
       "...         ...       ...     ...         ...    ...   ...    ...      ...\n",
       "VAR_74     3932      5541   -1.00        5541  10738  0.37   0.52     0.52\n",
       "VAR_75        0      7024   -1.00        7024  10738  0.00   0.65     0.65\n",
       "VAR_76      112         0  318.28        4552  10738  0.01   0.00     0.42\n",
       "VAR_77     2677      5565   -1.00        5565  10738  0.25   0.52     0.52\n",
       "VAR_78     3946      5541   -1.00        5541  10738  0.37   0.52     0.52\n",
       "\n",
       "[78 rows x 8 columns]"
      ]
     },
     "execution_count": 76,
     "metadata": {},
     "output_type": "execute_result"
    }
   ],
   "source": [
    "counts = {}\n",
    "for col in var_cols:\n",
    "    counts[col] = {\n",
    "        0: int((df[col] == 0).sum()),\n",
    "        -1: int((df[col] == -1).sum())\n",
    "    }\n",
    "counts_df = pd.DataFrame.from_dict(counts, orient='index').rename(columns={0: 'count_0', -1: 'count_-1'})\n",
    "total = len(df)\n",
    "modes = {col: df[col].mode().iloc[0] if not df[col].mode().empty else np.nan for col in var_cols}\n",
    "mode_counts = {col: int((df[col] == mode_val).sum()) for col, mode_val in modes.items()}\n",
    "modes_df = pd.DataFrame({'mode': pd.Series(modes), 'count_mode': pd.Series(mode_counts)})\n",
    "completeness_df = counts_df.merge(modes_df, left_index=True, right_index=True)\n",
    "completeness_df['total'] = total\n",
    "completeness_df['pc_0'] = (completeness_df['count_0'] / total).round(2)\n",
    "completeness_df['pc_-1'] = (completeness_df['count_-1'] / total).round(2)\n",
    "completeness_df['pc_moda'] = (completeness_df['count_mode'] / total).round(2)\n",
    "completeness_df\n",
    "#completeness_df.to_excel(\"completude.xlsx\")"
   ]
  },
  {
   "cell_type": "code",
   "execution_count": 113,
   "id": "914ee1ca",
   "metadata": {},
   "outputs": [],
   "source": [
    "# 4. Separação em DEV e OOT (corrigido)\n",
    "\n",
    "# Garante que 'safra' seja string no formato 'YYYYMM'\n",
    "df[\"safra\"] = df[\"safra\"].astype(str)\n",
    "\n",
    "# Inicializa a coluna com dtype object\n",
    "df[\"period_label\"] = pd.Series(index=df.index, dtype=\"object\")\n",
    "\n",
    "# Máscaras para DEV e OOT\n",
    "mask_dev = (df[\"safra\"] >= \"201401\") & (df[\"safra\"] <= \"201408\")\n",
    "mask_oot = (df[\"safra\"] >= \"201409\") & (df[\"safra\"] <= \"201412\")\n",
    "\n",
    "# Atribui os rótulos\n",
    "df.loc[mask_dev, \"period_label\"] = \"DEV\"\n",
    "df.loc[mask_oot, \"period_label\"] = \"OOT\"\n",
    "\n",
    "# Agora extrai os subsets\n",
    "dev = df[df[\"period_label\"] == \"DEV\"].copy()\n",
    "oot = df[df[\"period_label\"] == \"OOT\"].copy()"
   ]
  },
  {
   "cell_type": "markdown",
   "id": "59b7e781",
   "metadata": {},
   "source": [
    "## PSI E IV"
   ]
  },
  {
   "cell_type": "code",
   "execution_count": 115,
   "id": "948b7679",
   "metadata": {},
   "outputs": [
    {
     "data": {
      "application/vnd.microsoft.datawrangler.viewer.v0+json": {
       "columns": [
        {
         "name": "index",
         "rawType": "int64",
         "type": "integer"
        },
        {
         "name": "variable",
         "rawType": "object",
         "type": "string"
        },
        {
         "name": "psi_dev",
         "rawType": "float64",
         "type": "float"
        },
        {
         "name": "psi_oot",
         "rawType": "float64",
         "type": "float"
        }
       ],
       "ref": "b2c09939-0c7e-44ab-bede-f1c027c49433",
       "rows": [
        [
         "52",
         "VAR_53",
         "0.0",
         "1.2539138267038714"
        ],
        [
         "53",
         "VAR_54",
         "0.0",
         "0.39737092197426765"
        ],
        [
         "29",
         "VAR_30",
         "0.0",
         "0.32497519804101327"
        ],
        [
         "0",
         "VAR_1",
         "0.0",
         "0.13502805124443423"
        ],
        [
         "1",
         "VAR_2",
         "0.0",
         "0.09216619868763166"
        ],
        [
         "16",
         "VAR_17",
         "0.0",
         "0.08282764734394094"
        ],
        [
         "2",
         "VAR_3",
         "0.0",
         "0.08263225927485232"
        ],
        [
         "26",
         "VAR_27",
         "0.0",
         "0.07194999806045776"
        ],
        [
         "3",
         "VAR_4",
         "0.0",
         "0.060391698826346554"
        ],
        [
         "14",
         "VAR_15",
         "0.0",
         "0.05329898694268695"
        ],
        [
         "51",
         "VAR_52",
         "0.0",
         "0.0495808374030442"
        ],
        [
         "30",
         "VAR_31",
         "0.0",
         "0.04755614868647393"
        ],
        [
         "37",
         "VAR_38",
         "0.0",
         "0.023416549719363734"
        ],
        [
         "5",
         "VAR_6",
         "0.0",
         "0.020669275217869033"
        ],
        [
         "8",
         "VAR_9",
         "0.0",
         "0.02011942502153143"
        ],
        [
         "19",
         "VAR_20",
         "0.0",
         "0.018823429462409613"
        ],
        [
         "25",
         "VAR_26",
         "0.0",
         "0.015991639549607"
        ],
        [
         "49",
         "VAR_50",
         "0.0",
         "0.015684565034896288"
        ],
        [
         "6",
         "VAR_7",
         "0.0",
         "0.015583179957719415"
        ],
        [
         "28",
         "VAR_29",
         "0.0",
         "0.015181193684845874"
        ],
        [
         "55",
         "VAR_56",
         "0.0",
         "0.0150235835610218"
        ],
        [
         "45",
         "VAR_46",
         "0.0",
         "0.015008713201065145"
        ],
        [
         "36",
         "VAR_37",
         "0.0",
         "0.014846325751114607"
        ],
        [
         "66",
         "VAR_67",
         "0.0",
         "0.014105402992702923"
        ],
        [
         "77",
         "VAR_78",
         "0.0",
         "0.014099060238613743"
        ],
        [
         "73",
         "VAR_74",
         "0.0",
         "0.013938461304342226"
        ],
        [
         "70",
         "VAR_71",
         "0.0",
         "0.01360900898547012"
        ],
        [
         "72",
         "VAR_73",
         "0.0",
         "0.01360900898547012"
        ],
        [
         "41",
         "VAR_42",
         "0.0",
         "0.012712554477230078"
        ],
        [
         "47",
         "VAR_48",
         "0.0",
         "0.012653948804049355"
        ],
        [
         "61",
         "VAR_62",
         "0.0",
         "0.011611859088927614"
        ],
        [
         "13",
         "VAR_14",
         "0.0",
         "0.011565843250770768"
        ],
        [
         "74",
         "VAR_75",
         "0.0",
         "0.010528722352311327"
        ],
        [
         "50",
         "VAR_51",
         "0.0",
         "0.01051518519612521"
        ],
        [
         "33",
         "VAR_34",
         "0.0",
         "0.010263580853111826"
        ],
        [
         "64",
         "VAR_65",
         "0.0",
         "0.009883332338661658"
        ],
        [
         "54",
         "VAR_55",
         "0.0",
         "0.00978455397533939"
        ],
        [
         "67",
         "VAR_68",
         "0.0",
         "0.00974233493885788"
        ],
        [
         "22",
         "VAR_23",
         "0.0",
         "0.009241519615778435"
        ],
        [
         "58",
         "VAR_59",
         "0.0",
         "0.009156491490901066"
        ],
        [
         "71",
         "VAR_72",
         "0.0",
         "0.008255678459966578"
        ],
        [
         "4",
         "VAR_5",
         "0.0",
         "0.008128104367325209"
        ],
        [
         "75",
         "VAR_76",
         "0.0",
         "0.007833550030754265"
        ],
        [
         "69",
         "VAR_70",
         "0.0",
         "0.00768309082277694"
        ],
        [
         "59",
         "VAR_60",
         "0.0",
         "0.0067876581304487215"
        ],
        [
         "56",
         "VAR_57",
         "0.0",
         "0.0067466748560487235"
        ],
        [
         "68",
         "VAR_69",
         "0.0",
         "0.006017441716476007"
        ],
        [
         "62",
         "VAR_63",
         "0.0",
         "0.005968802978948689"
        ],
        [
         "40",
         "VAR_41",
         "0.0",
         "0.005903601731387834"
        ],
        [
         "23",
         "VAR_24",
         "0.0",
         "0.005590706582286744"
        ]
       ],
       "shape": {
        "columns": 3,
        "rows": 78
       }
      },
      "text/html": [
       "<div>\n",
       "<style scoped>\n",
       "    .dataframe tbody tr th:only-of-type {\n",
       "        vertical-align: middle;\n",
       "    }\n",
       "\n",
       "    .dataframe tbody tr th {\n",
       "        vertical-align: top;\n",
       "    }\n",
       "\n",
       "    .dataframe thead th {\n",
       "        text-align: right;\n",
       "    }\n",
       "</style>\n",
       "<table border=\"1\" class=\"dataframe\">\n",
       "  <thead>\n",
       "    <tr style=\"text-align: right;\">\n",
       "      <th></th>\n",
       "      <th>variable</th>\n",
       "      <th>psi_dev</th>\n",
       "      <th>psi_oot</th>\n",
       "    </tr>\n",
       "  </thead>\n",
       "  <tbody>\n",
       "    <tr>\n",
       "      <th>52</th>\n",
       "      <td>VAR_53</td>\n",
       "      <td>0.0</td>\n",
       "      <td>1.253914</td>\n",
       "    </tr>\n",
       "    <tr>\n",
       "      <th>53</th>\n",
       "      <td>VAR_54</td>\n",
       "      <td>0.0</td>\n",
       "      <td>0.397371</td>\n",
       "    </tr>\n",
       "    <tr>\n",
       "      <th>29</th>\n",
       "      <td>VAR_30</td>\n",
       "      <td>0.0</td>\n",
       "      <td>0.324975</td>\n",
       "    </tr>\n",
       "    <tr>\n",
       "      <th>0</th>\n",
       "      <td>VAR_1</td>\n",
       "      <td>0.0</td>\n",
       "      <td>0.135028</td>\n",
       "    </tr>\n",
       "    <tr>\n",
       "      <th>1</th>\n",
       "      <td>VAR_2</td>\n",
       "      <td>0.0</td>\n",
       "      <td>0.092166</td>\n",
       "    </tr>\n",
       "    <tr>\n",
       "      <th>...</th>\n",
       "      <td>...</td>\n",
       "      <td>...</td>\n",
       "      <td>...</td>\n",
       "    </tr>\n",
       "    <tr>\n",
       "      <th>76</th>\n",
       "      <td>VAR_77</td>\n",
       "      <td>0.0</td>\n",
       "      <td>0.001646</td>\n",
       "    </tr>\n",
       "    <tr>\n",
       "      <th>34</th>\n",
       "      <td>VAR_35</td>\n",
       "      <td>0.0</td>\n",
       "      <td>0.001551</td>\n",
       "    </tr>\n",
       "    <tr>\n",
       "      <th>11</th>\n",
       "      <td>VAR_12</td>\n",
       "      <td>0.0</td>\n",
       "      <td>0.001459</td>\n",
       "    </tr>\n",
       "    <tr>\n",
       "      <th>10</th>\n",
       "      <td>VAR_11</td>\n",
       "      <td>0.0</td>\n",
       "      <td>0.000593</td>\n",
       "    </tr>\n",
       "    <tr>\n",
       "      <th>63</th>\n",
       "      <td>VAR_64</td>\n",
       "      <td>0.0</td>\n",
       "      <td>0.000000</td>\n",
       "    </tr>\n",
       "  </tbody>\n",
       "</table>\n",
       "<p>78 rows × 3 columns</p>\n",
       "</div>"
      ],
      "text/plain": [
       "   variable  psi_dev   psi_oot\n",
       "52   VAR_53      0.0  1.253914\n",
       "53   VAR_54      0.0  0.397371\n",
       "29   VAR_30      0.0  0.324975\n",
       "0     VAR_1      0.0  0.135028\n",
       "1     VAR_2      0.0  0.092166\n",
       "..      ...      ...       ...\n",
       "76   VAR_77      0.0  0.001646\n",
       "34   VAR_35      0.0  0.001551\n",
       "11   VAR_12      0.0  0.001459\n",
       "10   VAR_11      0.0  0.000593\n",
       "63   VAR_64      0.0  0.000000\n",
       "\n",
       "[78 rows x 3 columns]"
      ]
     },
     "execution_count": 115,
     "metadata": {},
     "output_type": "execute_result"
    }
   ],
   "source": [
    "# 5. Cálculo de PSI\n",
    "def psi(expected, actual, bins=10):\n",
    "    breaks = np.unique(np.percentile(expected, np.linspace(0, 100, bins + 1)))\n",
    "    exp_perc = np.histogram(expected, bins=breaks)[0] / len(expected)\n",
    "    act_perc = np.histogram(actual,   bins=breaks)[0] / len(actual)\n",
    "    exp_perc = np.where(exp_perc == 0, 1e-8, exp_perc)\n",
    "    act_perc = np.where(act_perc == 0, 1e-8, act_perc)\n",
    "    return np.sum((exp_perc - act_perc) * np.log(exp_perc / act_perc))\n",
    "\n",
    "psi_results = []\n",
    "for c in var_cols:\n",
    "    psi_results.append({\n",
    "        \"variable\": c,\n",
    "        \"psi_dev\": 0.0,\n",
    "        \"psi_oot\": psi(dev[c].values, oot[c].values, bins=10)\n",
    "    })\n",
    "psi_df = pd.DataFrame(psi_results).sort_values(\"psi_oot\", ascending=False)\n",
    "psi_df.to_excel(\"psi_df.xlsx\")\n",
    "psi_df"
   ]
  },
  {
   "cell_type": "code",
   "execution_count": 116,
   "id": "32fb9439",
   "metadata": {},
   "outputs": [],
   "source": [
    "excl_psi = ['VAR_53'\n",
    "'VAR_54'\n",
    "'VAR_30'\n",
    "'VAR_1'\n",
    "'VAR_2'\n",
    "'VAR_17'\n",
    "'VAR_3'\n",
    "'VAR_27'\n",
    "'VAR_4'\n",
    "'VAR_15'\n",
    "'VAR_52'\n",
    "'VAR_31'\n",
    "'VAR_38'\n",
    "'VAR_6'\n",
    "'VAR_9'\n",
    "'VAR_20'\n",
    "'VAR_26'\n",
    "'VAR_50'\n",
    "'VAR_7'\n",
    "'VAR_29'\n",
    "'VAR_56'\n",
    "'VAR_46'\n",
    "'VAR_37'\n",
    "'VAR_67'\n",
    "'VAR_78'\n",
    "'VAR_74'\n",
    "'VAR_71'\n",
    "'VAR_73'\n",
    "'VAR_42'\n",
    "]"
   ]
  },
  {
   "cell_type": "code",
   "execution_count": 117,
   "id": "9d22f8b4",
   "metadata": {},
   "outputs": [
    {
     "data": {
      "application/vnd.microsoft.datawrangler.viewer.v0+json": {
       "columns": [
        {
         "name": "index",
         "rawType": "int64",
         "type": "integer"
        },
        {
         "name": "variable",
         "rawType": "object",
         "type": "string"
        },
        {
         "name": "iv_dev",
         "rawType": "float64",
         "type": "float"
        },
        {
         "name": "iv_oot",
         "rawType": "float64",
         "type": "float"
        }
       ],
       "ref": "070bdf39-b86e-4701-bc12-88ceefcea39d",
       "rows": [
        [
         "0",
         "VAR_1",
         "0.7994643636765694",
         "0.11786469913160647"
        ],
        [
         "11",
         "VAR_2",
         "0.626169774370595",
         "0.03186561223731509"
        ],
        [
         "22",
         "VAR_3",
         "0.6257398398748083",
         "0.04675299240229025"
        ],
        [
         "33",
         "VAR_4",
         "0.5222717074014359",
         "0.08675283398400081"
        ],
        [
         "55",
         "VAR_6",
         "0.16538147123360172",
         "0.20396378081135855"
        ],
        [
         "17",
         "VAR_25",
         "0.13023196416119265",
         "0.1238817160303782"
        ],
        [
         "10",
         "VAR_19",
         "0.12761584834842163",
         "0.1704186491437824"
        ],
        [
         "20",
         "VAR_28",
         "0.1273400237771381",
         "0.12948624418364582"
        ],
        [
         "14",
         "VAR_22",
         "0.12079682146540044",
         "0.1662085659815132"
        ],
        [
         "25",
         "VAR_32",
         "0.11664062984146396",
         "0.1315830168365565"
        ],
        [
         "12",
         "VAR_20",
         "0.11618203146675662",
         "0.22279107477542395"
        ],
        [
         "9",
         "VAR_18",
         "0.1158570685949792",
         "0.13336836008210526"
        ],
        [
         "8",
         "VAR_17",
         "0.11452144302903997",
         "0.09576750526105145"
        ],
        [
         "13",
         "VAR_21",
         "0.11411529710854129",
         "0.14565660097382777"
        ],
        [
         "26",
         "VAR_33",
         "0.11179489334952626",
         "0.1627353745473252"
        ],
        [
         "7",
         "VAR_16",
         "0.1115507734822716",
         "0.14058766566169362"
        ],
        [
         "34",
         "VAR_40",
         "0.10919839878795715",
         "0.1186682111243959"
        ],
        [
         "38",
         "VAR_44",
         "0.10892213711889104",
         "0.11696224508611297"
        ],
        [
         "24",
         "VAR_31",
         "0.10123594752034148",
         "0.12595378195209014"
        ],
        [
         "77",
         "VAR_9",
         "0.09930481167463341",
         "0.14506647399580416"
        ],
        [
         "19",
         "VAR_27",
         "0.0993022498501705",
         "0.03646835653300374"
        ],
        [
         "37",
         "VAR_43",
         "0.09814368149970434",
         "0.0783993277502779"
        ],
        [
         "3",
         "VAR_12",
         "0.09607344692326061",
         "0.08638627799233162"
        ],
        [
         "36",
         "VAR_42",
         "0.09363732690352754",
         "0.11002345738239416"
        ],
        [
         "40",
         "VAR_46",
         "0.09277153600047186",
         "0.11672202587625145"
        ],
        [
         "52",
         "VAR_57",
         "0.09049509690409069",
         "0.11014289579616074"
        ],
        [
         "56",
         "VAR_60",
         "0.08936398514180782",
         "0.10818227053015295"
        ],
        [
         "30",
         "VAR_37",
         "0.08189392569252876",
         "0.1359596132767229"
        ],
        [
         "61",
         "VAR_65",
         "0.07187005386596045",
         "0.09893062289231765"
        ],
        [
         "21",
         "VAR_29",
         "0.06997291188976709",
         "0.12404968324949185"
        ],
        [
         "18",
         "VAR_26",
         "0.06882044666158971",
         "0.11854449522078744"
        ],
        [
         "1",
         "VAR_10",
         "0.06820524609908181",
         "0.09003792723328354"
        ],
        [
         "15",
         "VAR_23",
         "0.06415320257937382",
         "0.09163813651336783"
        ],
        [
         "5",
         "VAR_14",
         "0.06363973946634227",
         "0.11265442028861691"
        ],
        [
         "65",
         "VAR_69",
         "0.06340060843350663",
         "0.08846686173302297"
        ],
        [
         "23",
         "VAR_30",
         "0.05744054413068335",
         "0.09220199364363552"
        ],
        [
         "62",
         "VAR_66",
         "0.056627338747717346",
         "0.08125853242730029"
        ],
        [
         "58",
         "VAR_62",
         "0.05557893044607984",
         "0.10245994151209162"
        ],
        [
         "42",
         "VAR_48",
         "0.055368234892968965",
         "0.1386670935598119"
        ],
        [
         "54",
         "VAR_59",
         "0.05443575323624769",
         "0.05471307370764124"
        ],
        [
         "48",
         "VAR_53",
         "0.047725569897112",
         "0.07197545574878844"
        ],
        [
         "64",
         "VAR_68",
         "0.0453492168255998",
         "0.09615674404731779"
        ],
        [
         "63",
         "VAR_67",
         "0.04479800627087201",
         "0.07433670671064851"
        ],
        [
         "73",
         "VAR_76",
         "0.0439304221539406",
         "0.05413938163391134"
        ],
        [
         "46",
         "VAR_51",
         "0.03702017326268667",
         "0.08830806962095723"
        ],
        [
         "32",
         "VAR_39",
         "0.03669679357476364",
         "0.03961792570496619"
        ],
        [
         "39",
         "VAR_45",
         "0.03318452627770931",
         "0.04553696909287401"
        ],
        [
         "49",
         "VAR_54",
         "0.030790169139147314",
         "0.06238171191824156"
        ],
        [
         "69",
         "VAR_72",
         "0.027601473854335694",
         "0.037878980845248336"
        ],
        [
         "4",
         "VAR_13",
         "0.027070166862526713",
         "0.04991879454638126"
        ]
       ],
       "shape": {
        "columns": 3,
        "rows": 78
       }
      },
      "text/html": [
       "<div>\n",
       "<style scoped>\n",
       "    .dataframe tbody tr th:only-of-type {\n",
       "        vertical-align: middle;\n",
       "    }\n",
       "\n",
       "    .dataframe tbody tr th {\n",
       "        vertical-align: top;\n",
       "    }\n",
       "\n",
       "    .dataframe thead th {\n",
       "        text-align: right;\n",
       "    }\n",
       "</style>\n",
       "<table border=\"1\" class=\"dataframe\">\n",
       "  <thead>\n",
       "    <tr style=\"text-align: right;\">\n",
       "      <th></th>\n",
       "      <th>variable</th>\n",
       "      <th>iv_dev</th>\n",
       "      <th>iv_oot</th>\n",
       "    </tr>\n",
       "  </thead>\n",
       "  <tbody>\n",
       "    <tr>\n",
       "      <th>0</th>\n",
       "      <td>VAR_1</td>\n",
       "      <td>0.799464</td>\n",
       "      <td>0.117865</td>\n",
       "    </tr>\n",
       "    <tr>\n",
       "      <th>11</th>\n",
       "      <td>VAR_2</td>\n",
       "      <td>0.626170</td>\n",
       "      <td>0.031866</td>\n",
       "    </tr>\n",
       "    <tr>\n",
       "      <th>22</th>\n",
       "      <td>VAR_3</td>\n",
       "      <td>0.625740</td>\n",
       "      <td>0.046753</td>\n",
       "    </tr>\n",
       "    <tr>\n",
       "      <th>33</th>\n",
       "      <td>VAR_4</td>\n",
       "      <td>0.522272</td>\n",
       "      <td>0.086753</td>\n",
       "    </tr>\n",
       "    <tr>\n",
       "      <th>55</th>\n",
       "      <td>VAR_6</td>\n",
       "      <td>0.165381</td>\n",
       "      <td>0.203964</td>\n",
       "    </tr>\n",
       "    <tr>\n",
       "      <th>...</th>\n",
       "      <td>...</td>\n",
       "      <td>...</td>\n",
       "      <td>...</td>\n",
       "    </tr>\n",
       "    <tr>\n",
       "      <th>28</th>\n",
       "      <td>VAR_35</td>\n",
       "      <td>0.005031</td>\n",
       "      <td>0.019980</td>\n",
       "    </tr>\n",
       "    <tr>\n",
       "      <th>47</th>\n",
       "      <td>VAR_52</td>\n",
       "      <td>0.004448</td>\n",
       "      <td>0.010476</td>\n",
       "    </tr>\n",
       "    <tr>\n",
       "      <th>29</th>\n",
       "      <td>VAR_36</td>\n",
       "      <td>0.001844</td>\n",
       "      <td>0.000866</td>\n",
       "    </tr>\n",
       "    <tr>\n",
       "      <th>57</th>\n",
       "      <td>VAR_61</td>\n",
       "      <td>0.000691</td>\n",
       "      <td>0.003487</td>\n",
       "    </tr>\n",
       "    <tr>\n",
       "      <th>60</th>\n",
       "      <td>VAR_64</td>\n",
       "      <td>0.000000</td>\n",
       "      <td>0.000000</td>\n",
       "    </tr>\n",
       "  </tbody>\n",
       "</table>\n",
       "<p>78 rows × 3 columns</p>\n",
       "</div>"
      ],
      "text/plain": [
       "   variable    iv_dev    iv_oot\n",
       "0     VAR_1  0.799464  0.117865\n",
       "11    VAR_2  0.626170  0.031866\n",
       "22    VAR_3  0.625740  0.046753\n",
       "33    VAR_4  0.522272  0.086753\n",
       "55    VAR_6  0.165381  0.203964\n",
       "..      ...       ...       ...\n",
       "28   VAR_35  0.005031  0.019980\n",
       "47   VAR_52  0.004448  0.010476\n",
       "29   VAR_36  0.001844  0.000866\n",
       "57   VAR_61  0.000691  0.003487\n",
       "60   VAR_64  0.000000  0.000000\n",
       "\n",
       "[78 rows x 3 columns]"
      ]
     },
     "execution_count": 117,
     "metadata": {},
     "output_type": "execute_result"
    }
   ],
   "source": [
    "# 6. Cálculo de IV\n",
    "def calc_iv(series, target, bins=10):\n",
    "    df2 = pd.DataFrame({\"x\": series, \"y\": target})\n",
    "    df2[\"bin\"] = pd.qcut(df2[\"x\"], q=bins, duplicates=\"drop\")\n",
    "    grp = df2.groupby(\"bin\")[\"y\"].agg([\"count\",\"sum\"]).rename(columns={\"sum\":\"bad\",\"count\":\"total\"})\n",
    "    grp[\"good\"] = grp[\"total\"] - grp[\"bad\"]\n",
    "    dist_good = grp[\"good\"] / grp[\"good\"].sum()\n",
    "    dist_bad  = grp[\"bad\"]  / grp[\"bad\"].sum()\n",
    "    dist_good = dist_good.replace(0, 1e-8)\n",
    "    dist_bad  = dist_bad.replace(0, 1e-8)\n",
    "    woe = np.log(dist_good / dist_bad)\n",
    "    return ((dist_good - dist_bad) * woe).sum()\n",
    "\n",
    "iv_results = []\n",
    "for label, subset in [(\"dev\", dev), (\"oot\", oot)]:\n",
    "    for c in var_cols:\n",
    "        iv_results.append({\n",
    "            \"variable\": c,\n",
    "            f\"iv_{label}\": calc_iv(subset[c], subset[\"y\"], bins=10)\n",
    "        })\n",
    "iv_df = (pd.DataFrame(iv_results)\n",
    "         .pivot_table(index=\"variable\", values=[\"iv_dev\",\"iv_oot\"])\n",
    "         .reset_index()\n",
    "         .sort_values(\"iv_dev\", ascending=False))\n",
    "iv_df"
   ]
  },
  {
   "cell_type": "code",
   "execution_count": null,
   "id": "506fcdda",
   "metadata": {},
   "outputs": [],
   "source": []
  },
  {
   "cell_type": "markdown",
   "id": "15307735",
   "metadata": {},
   "source": [
    "## Feature Selection com Boruta"
   ]
  },
  {
   "cell_type": "code",
   "execution_count": 118,
   "id": "74c7be19",
   "metadata": {},
   "outputs": [
    {
     "name": "stdout",
     "output_type": "stream",
     "text": [
      "Iteration: \t1 / 100\n",
      "Confirmed: \t0\n",
      "Tentative: \t78\n",
      "Rejected: \t0\n",
      "Iteration: \t2 / 100\n",
      "Confirmed: \t0\n",
      "Tentative: \t78\n",
      "Rejected: \t0\n",
      "Iteration: \t3 / 100\n",
      "Confirmed: \t0\n",
      "Tentative: \t78\n",
      "Rejected: \t0\n",
      "Iteration: \t4 / 100\n",
      "Confirmed: \t0\n",
      "Tentative: \t78\n",
      "Rejected: \t0\n",
      "Iteration: \t5 / 100\n",
      "Confirmed: \t0\n",
      "Tentative: \t78\n",
      "Rejected: \t0\n",
      "Iteration: \t6 / 100\n",
      "Confirmed: \t0\n",
      "Tentative: \t78\n",
      "Rejected: \t0\n",
      "Iteration: \t7 / 100\n",
      "Confirmed: \t0\n",
      "Tentative: \t78\n",
      "Rejected: \t0\n",
      "Iteration: \t8 / 100\n",
      "Confirmed: \t0\n",
      "Tentative: \t78\n",
      "Rejected: \t0\n",
      "Iteration: \t9 / 100\n",
      "Confirmed: \t0\n",
      "Tentative: \t78\n",
      "Rejected: \t0\n",
      "Iteration: \t10 / 100\n",
      "Confirmed: \t54\n",
      "Tentative: \t24\n",
      "Rejected: \t0\n",
      "Iteration: \t11 / 100\n",
      "Confirmed: \t54\n",
      "Tentative: \t24\n",
      "Rejected: \t0\n",
      "Iteration: \t12 / 100\n",
      "Confirmed: \t54\n",
      "Tentative: \t22\n",
      "Rejected: \t2\n",
      "Iteration: \t13 / 100\n",
      "Confirmed: \t54\n",
      "Tentative: \t22\n",
      "Rejected: \t2\n",
      "Iteration: \t14 / 100\n",
      "Confirmed: \t54\n",
      "Tentative: \t22\n",
      "Rejected: \t2\n",
      "Iteration: \t15 / 100\n",
      "Confirmed: \t55\n",
      "Tentative: \t21\n",
      "Rejected: \t2\n",
      "Iteration: \t16 / 100\n",
      "Confirmed: \t55\n",
      "Tentative: \t18\n",
      "Rejected: \t5\n",
      "Iteration: \t17 / 100\n",
      "Confirmed: \t55\n",
      "Tentative: \t18\n",
      "Rejected: \t5\n",
      "Iteration: \t18 / 100\n",
      "Confirmed: \t55\n",
      "Tentative: \t18\n",
      "Rejected: \t5\n",
      "Iteration: \t19 / 100\n",
      "Confirmed: \t55\n",
      "Tentative: \t18\n",
      "Rejected: \t5\n",
      "Iteration: \t20 / 100\n",
      "Confirmed: \t55\n",
      "Tentative: \t18\n",
      "Rejected: \t5\n",
      "Iteration: \t21 / 100\n",
      "Confirmed: \t55\n",
      "Tentative: \t18\n",
      "Rejected: \t5\n",
      "Iteration: \t22 / 100\n",
      "Confirmed: \t55\n",
      "Tentative: \t18\n",
      "Rejected: \t5\n",
      "Iteration: \t23 / 100\n",
      "Confirmed: \t55\n",
      "Tentative: \t18\n",
      "Rejected: \t5\n",
      "Iteration: \t24 / 100\n",
      "Confirmed: \t55\n",
      "Tentative: \t18\n",
      "Rejected: \t5\n",
      "Iteration: \t25 / 100\n",
      "Confirmed: \t55\n",
      "Tentative: \t17\n",
      "Rejected: \t6\n",
      "Iteration: \t26 / 100\n",
      "Confirmed: \t55\n",
      "Tentative: \t17\n",
      "Rejected: \t6\n",
      "Iteration: \t27 / 100\n",
      "Confirmed: \t55\n",
      "Tentative: \t17\n",
      "Rejected: \t6\n",
      "Iteration: \t28 / 100\n",
      "Confirmed: \t55\n",
      "Tentative: \t17\n",
      "Rejected: \t6\n",
      "Iteration: \t29 / 100\n",
      "Confirmed: \t55\n",
      "Tentative: \t17\n",
      "Rejected: \t6\n",
      "Iteration: \t30 / 100\n",
      "Confirmed: \t55\n",
      "Tentative: \t17\n",
      "Rejected: \t6\n",
      "Iteration: \t31 / 100\n",
      "Confirmed: \t55\n",
      "Tentative: \t17\n",
      "Rejected: \t6\n",
      "Iteration: \t32 / 100\n",
      "Confirmed: \t56\n",
      "Tentative: \t14\n",
      "Rejected: \t8\n",
      "Iteration: \t33 / 100\n",
      "Confirmed: \t56\n",
      "Tentative: \t14\n",
      "Rejected: \t8\n",
      "Iteration: \t34 / 100\n",
      "Confirmed: \t56\n",
      "Tentative: \t14\n",
      "Rejected: \t8\n",
      "Iteration: \t35 / 100\n",
      "Confirmed: \t56\n",
      "Tentative: \t12\n",
      "Rejected: \t10\n",
      "Iteration: \t36 / 100\n",
      "Confirmed: \t56\n",
      "Tentative: \t12\n",
      "Rejected: \t10\n",
      "Iteration: \t37 / 100\n",
      "Confirmed: \t56\n",
      "Tentative: \t12\n",
      "Rejected: \t10\n",
      "Iteration: \t38 / 100\n",
      "Confirmed: \t56\n",
      "Tentative: \t12\n",
      "Rejected: \t10\n",
      "Iteration: \t39 / 100\n",
      "Confirmed: \t56\n",
      "Tentative: \t12\n",
      "Rejected: \t10\n",
      "Iteration: \t40 / 100\n",
      "Confirmed: \t56\n",
      "Tentative: \t12\n",
      "Rejected: \t10\n",
      "Iteration: \t41 / 100\n",
      "Confirmed: \t57\n",
      "Tentative: \t11\n",
      "Rejected: \t10\n",
      "Iteration: \t42 / 100\n",
      "Confirmed: \t57\n",
      "Tentative: \t10\n",
      "Rejected: \t11\n",
      "Iteration: \t43 / 100\n",
      "Confirmed: \t57\n",
      "Tentative: \t10\n",
      "Rejected: \t11\n",
      "Iteration: \t44 / 100\n",
      "Confirmed: \t58\n",
      "Tentative: \t9\n",
      "Rejected: \t11\n",
      "Iteration: \t45 / 100\n",
      "Confirmed: \t58\n",
      "Tentative: \t9\n",
      "Rejected: \t11\n",
      "Iteration: \t46 / 100\n",
      "Confirmed: \t58\n",
      "Tentative: \t9\n",
      "Rejected: \t11\n",
      "Iteration: \t47 / 100\n",
      "Confirmed: \t58\n",
      "Tentative: \t9\n",
      "Rejected: \t11\n",
      "Iteration: \t48 / 100\n",
      "Confirmed: \t58\n",
      "Tentative: \t9\n",
      "Rejected: \t11\n",
      "Iteration: \t49 / 100\n",
      "Confirmed: \t58\n",
      "Tentative: \t9\n",
      "Rejected: \t11\n",
      "Iteration: \t50 / 100\n",
      "Confirmed: \t58\n",
      "Tentative: \t9\n",
      "Rejected: \t11\n",
      "Iteration: \t51 / 100\n",
      "Confirmed: \t58\n",
      "Tentative: \t9\n",
      "Rejected: \t11\n",
      "Iteration: \t52 / 100\n",
      "Confirmed: \t58\n",
      "Tentative: \t9\n",
      "Rejected: \t11\n",
      "Iteration: \t53 / 100\n",
      "Confirmed: \t58\n",
      "Tentative: \t9\n",
      "Rejected: \t11\n",
      "Iteration: \t54 / 100\n",
      "Confirmed: \t58\n",
      "Tentative: \t9\n",
      "Rejected: \t11\n",
      "Iteration: \t55 / 100\n",
      "Confirmed: \t58\n",
      "Tentative: \t9\n",
      "Rejected: \t11\n",
      "Iteration: \t56 / 100\n",
      "Confirmed: \t58\n",
      "Tentative: \t9\n",
      "Rejected: \t11\n",
      "Iteration: \t57 / 100\n",
      "Confirmed: \t58\n",
      "Tentative: \t9\n",
      "Rejected: \t11\n",
      "Iteration: \t58 / 100\n",
      "Confirmed: \t58\n",
      "Tentative: \t9\n",
      "Rejected: \t11\n",
      "Iteration: \t59 / 100\n",
      "Confirmed: \t58\n",
      "Tentative: \t9\n",
      "Rejected: \t11\n",
      "Iteration: \t60 / 100\n",
      "Confirmed: \t58\n",
      "Tentative: \t9\n",
      "Rejected: \t11\n",
      "Iteration: \t61 / 100\n",
      "Confirmed: \t58\n",
      "Tentative: \t9\n",
      "Rejected: \t11\n",
      "Iteration: \t62 / 100\n",
      "Confirmed: \t58\n",
      "Tentative: \t9\n",
      "Rejected: \t11\n",
      "Iteration: \t63 / 100\n",
      "Confirmed: \t58\n",
      "Tentative: \t9\n",
      "Rejected: \t11\n",
      "Iteration: \t64 / 100\n",
      "Confirmed: \t58\n",
      "Tentative: \t9\n",
      "Rejected: \t11\n",
      "Iteration: \t65 / 100\n",
      "Confirmed: \t58\n",
      "Tentative: \t9\n",
      "Rejected: \t11\n",
      "Iteration: \t66 / 100\n",
      "Confirmed: \t58\n",
      "Tentative: \t9\n",
      "Rejected: \t11\n",
      "Iteration: \t67 / 100\n",
      "Confirmed: \t58\n",
      "Tentative: \t9\n",
      "Rejected: \t11\n",
      "Iteration: \t68 / 100\n",
      "Confirmed: \t58\n",
      "Tentative: \t9\n",
      "Rejected: \t11\n",
      "Iteration: \t69 / 100\n",
      "Confirmed: \t58\n",
      "Tentative: \t9\n",
      "Rejected: \t11\n",
      "Iteration: \t70 / 100\n",
      "Confirmed: \t58\n",
      "Tentative: \t9\n",
      "Rejected: \t11\n",
      "Iteration: \t71 / 100\n",
      "Confirmed: \t58\n",
      "Tentative: \t9\n",
      "Rejected: \t11\n",
      "Iteration: \t72 / 100\n",
      "Confirmed: \t58\n",
      "Tentative: \t9\n",
      "Rejected: \t11\n",
      "Iteration: \t73 / 100\n",
      "Confirmed: \t58\n",
      "Tentative: \t9\n",
      "Rejected: \t11\n",
      "Iteration: \t74 / 100\n",
      "Confirmed: \t58\n",
      "Tentative: \t9\n",
      "Rejected: \t11\n",
      "Iteration: \t75 / 100\n",
      "Confirmed: \t58\n",
      "Tentative: \t9\n",
      "Rejected: \t11\n",
      "Iteration: \t76 / 100\n",
      "Confirmed: \t58\n",
      "Tentative: \t9\n",
      "Rejected: \t11\n",
      "Iteration: \t77 / 100\n",
      "Confirmed: \t58\n",
      "Tentative: \t9\n",
      "Rejected: \t11\n",
      "Iteration: \t78 / 100\n",
      "Confirmed: \t58\n",
      "Tentative: \t9\n",
      "Rejected: \t11\n",
      "Iteration: \t79 / 100\n",
      "Confirmed: \t58\n",
      "Tentative: \t9\n",
      "Rejected: \t11\n",
      "Iteration: \t80 / 100\n",
      "Confirmed: \t58\n",
      "Tentative: \t9\n",
      "Rejected: \t11\n",
      "Iteration: \t81 / 100\n",
      "Confirmed: \t58\n",
      "Tentative: \t9\n",
      "Rejected: \t11\n",
      "Iteration: \t82 / 100\n",
      "Confirmed: \t58\n",
      "Tentative: \t9\n",
      "Rejected: \t11\n",
      "Iteration: \t83 / 100\n",
      "Confirmed: \t58\n",
      "Tentative: \t9\n",
      "Rejected: \t11\n",
      "Iteration: \t84 / 100\n",
      "Confirmed: \t58\n",
      "Tentative: \t9\n",
      "Rejected: \t11\n",
      "Iteration: \t85 / 100\n",
      "Confirmed: \t58\n",
      "Tentative: \t9\n",
      "Rejected: \t11\n",
      "Iteration: \t86 / 100\n",
      "Confirmed: \t58\n",
      "Tentative: \t9\n",
      "Rejected: \t11\n",
      "Iteration: \t87 / 100\n",
      "Confirmed: \t58\n",
      "Tentative: \t9\n",
      "Rejected: \t11\n",
      "Iteration: \t88 / 100\n",
      "Confirmed: \t58\n",
      "Tentative: \t9\n",
      "Rejected: \t11\n",
      "Iteration: \t89 / 100\n",
      "Confirmed: \t58\n",
      "Tentative: \t9\n",
      "Rejected: \t11\n",
      "Iteration: \t90 / 100\n",
      "Confirmed: \t58\n",
      "Tentative: \t9\n",
      "Rejected: \t11\n",
      "Iteration: \t91 / 100\n",
      "Confirmed: \t58\n",
      "Tentative: \t9\n",
      "Rejected: \t11\n",
      "Iteration: \t92 / 100\n",
      "Confirmed: \t58\n",
      "Tentative: \t9\n",
      "Rejected: \t11\n",
      "Iteration: \t93 / 100\n",
      "Confirmed: \t58\n",
      "Tentative: \t9\n",
      "Rejected: \t11\n",
      "Iteration: \t94 / 100\n",
      "Confirmed: \t58\n",
      "Tentative: \t9\n",
      "Rejected: \t11\n",
      "Iteration: \t95 / 100\n",
      "Confirmed: \t58\n",
      "Tentative: \t9\n",
      "Rejected: \t11\n",
      "Iteration: \t96 / 100\n",
      "Confirmed: \t58\n",
      "Tentative: \t9\n",
      "Rejected: \t11\n",
      "Iteration: \t97 / 100\n",
      "Confirmed: \t58\n",
      "Tentative: \t9\n",
      "Rejected: \t11\n",
      "Iteration: \t98 / 100\n",
      "Confirmed: \t58\n",
      "Tentative: \t9\n",
      "Rejected: \t11\n",
      "Iteration: \t99 / 100\n",
      "Confirmed: \t58\n",
      "Tentative: \t9\n",
      "Rejected: \t11\n",
      "\n",
      "\n",
      "BorutaPy finished running.\n",
      "\n",
      "Iteration: \t100 / 100\n",
      "Confirmed: \t58\n",
      "Tentative: \t5\n",
      "Rejected: \t15\n",
      "Features selecionadas pelo Boruta: ['VAR_1', 'VAR_2', 'VAR_3', 'VAR_4', 'VAR_6', 'VAR_9', 'VAR_10', 'VAR_12', 'VAR_14', 'VAR_16', 'VAR_17', 'VAR_18', 'VAR_19', 'VAR_20', 'VAR_21', 'VAR_22', 'VAR_23', 'VAR_25', 'VAR_26', 'VAR_27', 'VAR_28', 'VAR_29', 'VAR_30', 'VAR_31', 'VAR_32', 'VAR_33', 'VAR_34', 'VAR_37', 'VAR_38', 'VAR_40', 'VAR_41', 'VAR_42', 'VAR_43', 'VAR_44', 'VAR_46', 'VAR_47', 'VAR_48', 'VAR_49', 'VAR_51', 'VAR_53', 'VAR_57', 'VAR_59', 'VAR_60', 'VAR_62', 'VAR_64', 'VAR_65', 'VAR_66', 'VAR_67', 'VAR_68', 'VAR_69', 'VAR_70', 'VAR_71', 'VAR_72', 'VAR_73', 'VAR_74', 'VAR_76', 'VAR_77', 'VAR_78']\n"
     ]
    }
   ],
   "source": [
    "from sklearn.ensemble import RandomForestClassifier\n",
    "from boruta import BorutaPy\n",
    "\n",
    "# Preparar dados\n",
    "X = df[var_cols].values\n",
    "y = df['y'].values\n",
    "\n",
    "# Estimador base\n",
    "rf = RandomForestClassifier(max_depth=2, random_state=42, n_jobs=-1)\n",
    "\n",
    "# Configurar Boruta\n",
    "selector = BorutaPy(\n",
    "    estimator=rf,\n",
    "    n_estimators='auto',\n",
    "    alpha=0.01,\n",
    "    verbose=2,\n",
    "    random_state=42\n",
    ")\n",
    "\n",
    "# Ajustar e selecionar\n",
    "selector.fit(X, y)\n",
    "\n",
    "# Recuperar features selecionadas\n",
    "selected_features = [var_cols[i] for i, keep in enumerate(selector.support_) if keep]\n",
    "print(\"Features selecionadas pelo Boruta:\", selected_features)"
   ]
  },
  {
   "cell_type": "code",
   "execution_count": 119,
   "id": "3bd2f40f",
   "metadata": {},
   "outputs": [],
   "source": [
    "cols_boruta = ['VAR_1', 'VAR_2', 'VAR_3', 'VAR_4', 'VAR_6', 'VAR_9', 'VAR_10', 'VAR_12', 'VAR_14', 'VAR_16', 'VAR_17', 'VAR_18', 'VAR_19', 'VAR_20', \n",
    "               'VAR_21', 'VAR_22', 'VAR_23', 'VAR_25', 'VAR_26', 'VAR_27', 'VAR_28', 'VAR_29', 'VAR_30', 'VAR_31', 'VAR_32', 'VAR_33', 'VAR_34', \n",
    "               'VAR_37', 'VAR_38', 'VAR_40', 'VAR_41', 'VAR_42', 'VAR_43', 'VAR_44', 'VAR_46', 'VAR_47', 'VAR_48', 'VAR_49', 'VAR_51', 'VAR_53', \n",
    "               'VAR_57', 'VAR_59', 'VAR_60', 'VAR_62', 'VAR_64', 'VAR_65', 'VAR_66', 'VAR_67', 'VAR_68', 'VAR_69', 'VAR_70', 'VAR_71', 'VAR_72', \n",
    "               'VAR_73', 'VAR_74', 'VAR_76', 'VAR_77', 'VAR_78']\n",
    "\n",
    "cols_boruta = [col for col in cols_boruta if col not in excl_psi]\n"
   ]
  },
  {
   "cell_type": "code",
   "execution_count": null,
   "id": "e9bf37d5",
   "metadata": {},
   "outputs": [],
   "source": [
    "mask_dev = (df[\"safra\"] >= \"201401\") & (df[\"safra\"] <= \"201409\")\n",
    "mask_oot = (df[\"safra\"] >= \"201410\") & (df[\"safra\"] <= \"201412\")\n",
    "df.loc[mask_dev, \"period_label\"] = \"DEV\"\n",
    "df.loc[mask_oot, \"period_label\"] = \"OOT\"\n",
    "\n",
    "dev = df[df[\"period_label\"] == \"DEV\"]\n",
    "oot = df[df[\"period_label\"] == \"OOT\"]\n"
   ]
  },
  {
   "cell_type": "code",
   "execution_count": 127,
   "id": "4f2f5ef9",
   "metadata": {},
   "outputs": [],
   "source": [
    "table_dev_X_train = dev[cols_boruta]\n",
    "table_dev_y_train = dev[\"y\"]\n",
    "table_oot_X       = oot[cols_boruta]\n",
    "table_oot_y       = oot[\"y\"]\n",
    "features = cols_boruta  # para logging de importância"
   ]
  },
  {
   "cell_type": "code",
   "execution_count": 129,
   "id": "53372ca8",
   "metadata": {},
   "outputs": [],
   "source": [
    "coefval = lambda x: np.std(x, ddof=1) / np.mean(x)\n",
    "\n",
    "def ks_score(y_true, y_proba):\n",
    "    fpr, tpr, _ = roc_curve(y_true, y_proba)\n",
    "    return np.max(np.abs(tpr - fpr)) * 100\n",
    "\n",
    "def metricas_models(X_df, y_df, model):\n",
    "    # predict returns raw score, para LGBM usar predict\n",
    "    y_pred_proba = model.predict(X_df)\n",
    "    # thresholds\n",
    "    thr_05 = 0.5\n",
    "    thr_mean = np.mean(y_pred_proba)\n",
    "    y_pred_05   = (y_pred_proba > thr_05).astype(int)\n",
    "    y_pred_mean = (y_pred_proba > thr_mean).astype(int)\n",
    "\n",
    "    f1      = f1_score(y_df, y_pred_05) * 100\n",
    "    precis  = precision_score(y_df, y_pred_05) * 100\n",
    "    recall  = recall_score(y_df, y_pred_05) * 100\n",
    "    ks      = ks_score(y_df, y_pred_proba)\n",
    "    gini    = (2 * roc_auc_score(y_df, y_pred_proba) - 1) * 100\n",
    "    acc     = accuracy_score(y_df, y_pred_05) * 100\n",
    "    precis_c = precision_score(y_df, y_pred_mean) * 100\n",
    "    recall_c = recall_score(y_df, y_pred_mean) * 100\n",
    "    f1_c     = f1_score(y_df, y_pred_mean) * 100\n",
    "    acc_c    = accuracy_score(y_df, y_pred_mean) * 100\n",
    "    mcc      = matthews_corrcoef(y_df, y_pred_05) * 100\n",
    "\n",
    "    return (\n",
    "        f1, precis, recall, ks, gini, acc,\n",
    "        precis_c, recall_c, f1_c, acc_c, mcc\n",
    "    )"
   ]
  },
  {
   "cell_type": "code",
   "execution_count": 135,
   "id": "14d23973",
   "metadata": {},
   "outputs": [
    {
     "name": "stderr",
     "output_type": "stream",
     "text": [
      "[I 2025-05-25 19:14:47,736] A new study created in memory with name: lgbm_custom_metrics\n"
     ]
    },
    {
     "name": "stdout",
     "output_type": "stream",
     "text": [
      "Training until validation scores don't improve for 50 rounds\n",
      "Early stopping, best iteration is:\n",
      "[39]\ttrain's binary_error: 0.218366\toot's binary_error: 0.305105\n",
      "Training until validation scores don't improve for 50 rounds\n",
      "Early stopping, best iteration is:\n",
      "[174]\tvalid's auc: 0.758213 + 0.0160053\n"
     ]
    },
    {
     "name": "stderr",
     "output_type": "stream",
     "text": [
      "[I 2025-05-25 19:15:02,045] Trial 0 finished with value: 33.1542400759369 and parameters: {'boosting_type': 'gbdt', 'num_leaves': 123, 'max_depth': 8, 'min_child_samples': 2700, 'learning_rate': 0.31605871113901574, 'feature_fraction': 0.5109031204811888, 'reg_alpha': 0.7283868933547999, 'reg_lambda': 0.34635413518101643, 'subsample': 0.15615023152241364, 'num_boost_round': 490}. Best is trial 0 with value: 33.1542400759369.\n",
      "[I 2025-05-25 19:15:11,248] Trial 1 finished with value: 0.0 and parameters: {'boosting_type': 'dart', 'num_leaves': 210, 'max_depth': 8, 'min_child_samples': 7350, 'learning_rate': 0.10066553680769755, 'feature_fraction': 0.3405638627083527, 'reg_alpha': 0.449896367739142, 'reg_lambda': 0.2358161274079147, 'subsample': 0.3007710883001645, 'num_boost_round': 500}. Best is trial 0 with value: 33.1542400759369.\n"
     ]
    },
    {
     "name": "stdout",
     "output_type": "stream",
     "text": [
      "Training until validation scores don't improve for 50 rounds\n",
      "Early stopping, best iteration is:\n",
      "[158]\ttrain's binary_error: 0.200585\toot's binary_error: 0.292046\n",
      "Training until validation scores don't improve for 50 rounds\n",
      "Early stopping, best iteration is:\n",
      "[76]\tvalid's auc: 0.776452 + 0.0134284\n"
     ]
    },
    {
     "name": "stderr",
     "output_type": "stream",
     "text": [
      "[I 2025-05-25 19:15:19,098] Trial 2 finished with value: 30.98148075344352 and parameters: {'boosting_type': 'gbdt', 'num_leaves': 163, 'max_depth': 10, 'min_child_samples': 2100, 'learning_rate': 0.6922288178530231, 'feature_fraction': 0.5520770299990397, 'reg_alpha': 0.7834953103302204, 'reg_lambda': 0.26931068669603675, 'subsample': 0.467083948415537, 'num_boost_round': 420}. Best is trial 0 with value: 33.1542400759369.\n"
     ]
    },
    {
     "name": "stdout",
     "output_type": "stream",
     "text": [
      "Training until validation scores don't improve for 50 rounds\n",
      "Early stopping, best iteration is:\n",
      "[1]\ttrain's binary_error: 0.282061\toot's binary_error: 0.32133\n",
      "Training until validation scores don't improve for 50 rounds\n",
      "Early stopping, best iteration is:\n",
      "[1]\tvalid's auc: 0.5 + 0\n"
     ]
    },
    {
     "name": "stderr",
     "output_type": "stream",
     "text": [
      "[I 2025-05-25 19:15:25,285] Trial 3 finished with value: 0.0 and parameters: {'boosting_type': 'gbdt', 'num_leaves': 114, 'max_depth': 5, 'min_child_samples': 5460, 'learning_rate': 0.7009458043713234, 'feature_fraction': 0.8313495285276801, 'reg_alpha': 0.5092137806155309, 'reg_lambda': 0.1331605222645066, 'subsample': 0.22597038257984678, 'num_boost_round': 500}. Best is trial 0 with value: 33.1542400759369.\n"
     ]
    },
    {
     "name": "stdout",
     "output_type": "stream",
     "text": [
      "Training until validation scores don't improve for 50 rounds\n",
      "Early stopping, best iteration is:\n",
      "[1]\ttrain's binary_error: 0.282061\toot's binary_error: 0.32133\n",
      "Training until validation scores don't improve for 50 rounds\n",
      "Early stopping, best iteration is:\n",
      "[1]\tvalid's auc: 0.5 + 0\n"
     ]
    },
    {
     "name": "stderr",
     "output_type": "stream",
     "text": [
      "[I 2025-05-25 19:15:31,232] Trial 4 finished with value: 0.0 and parameters: {'boosting_type': 'gbdt', 'num_leaves': 95, 'max_depth': 7, 'min_child_samples': 5190, 'learning_rate': 0.13780314836939925, 'feature_fraction': 0.1368601463982449, 'reg_alpha': 0.23329837362161251, 'reg_lambda': 0.3669770120973611, 'subsample': 0.318289107753009, 'num_boost_round': 410}. Best is trial 0 with value: 33.1542400759369.\n"
     ]
    },
    {
     "name": "stdout",
     "output_type": "stream",
     "text": [
      "Training until validation scores don't improve for 50 rounds\n",
      "Early stopping, best iteration is:\n",
      "[1]\ttrain's binary_error: 0.282061\toot's binary_error: 0.32133\n",
      "Training until validation scores don't improve for 50 rounds\n",
      "Early stopping, best iteration is:\n",
      "[1]\tvalid's auc: 0.5 + 0\n"
     ]
    },
    {
     "name": "stderr",
     "output_type": "stream",
     "text": [
      "[I 2025-05-25 19:15:37,387] Trial 5 finished with value: 0.0 and parameters: {'boosting_type': 'gbdt', 'num_leaves': 105, 'max_depth': 4, 'min_child_samples': 6180, 'learning_rate': 0.6921759249848629, 'feature_fraction': 0.7985853562993349, 'reg_alpha': 0.5520175231322978, 'reg_lambda': 0.17074448946110943, 'subsample': 0.355364955886331, 'num_boost_round': 470}. Best is trial 0 with value: 33.1542400759369.\n"
     ]
    },
    {
     "name": "stdout",
     "output_type": "stream",
     "text": [
      "Training until validation scores don't improve for 50 rounds\n",
      "Early stopping, best iteration is:\n",
      "[1]\ttrain's binary_error: 0.282061\toot's binary_error: 0.32133\n",
      "Training until validation scores don't improve for 50 rounds\n",
      "Early stopping, best iteration is:\n",
      "[1]\tvalid's auc: 0.5 + 0\n"
     ]
    },
    {
     "name": "stderr",
     "output_type": "stream",
     "text": [
      "[I 2025-05-25 19:15:43,365] Trial 6 finished with value: 0.0 and parameters: {'boosting_type': 'gbdt', 'num_leaves': 150, 'max_depth': 6, 'min_child_samples': 7200, 'learning_rate': 0.8220319007469101, 'feature_fraction': 0.855064856221793, 'reg_alpha': 0.6783978023834416, 'reg_lambda': 0.8738910067986173, 'subsample': 0.23195946934264453, 'num_boost_round': 470}. Best is trial 0 with value: 33.1542400759369.\n"
     ]
    },
    {
     "name": "stdout",
     "output_type": "stream",
     "text": [
      "Training until validation scores don't improve for 50 rounds\n",
      "Early stopping, best iteration is:\n",
      "[1]\ttrain's binary_error: 0.282061\toot's binary_error: 0.32133\n",
      "Training until validation scores don't improve for 50 rounds\n",
      "Early stopping, best iteration is:\n",
      "[1]\tvalid's auc: 0.5 + 0\n"
     ]
    },
    {
     "name": "stderr",
     "output_type": "stream",
     "text": [
      "[I 2025-05-25 19:15:49,363] Trial 7 finished with value: 0.0 and parameters: {'boosting_type': 'gbdt', 'num_leaves': 231, 'max_depth': 9, 'min_child_samples': 4760, 'learning_rate': 0.33472242451129325, 'feature_fraction': 0.5537227070791756, 'reg_alpha': 0.6136002228496075, 'reg_lambda': 0.668336274543826, 'subsample': 0.5224216242601697, 'num_boost_round': 380}. Best is trial 0 with value: 33.1542400759369.\n"
     ]
    },
    {
     "name": "stdout",
     "output_type": "stream",
     "text": [
      "Training until validation scores don't improve for 50 rounds\n",
      "Early stopping, best iteration is:\n",
      "[1]\ttrain's binary_error: 0.282061\toot's binary_error: 0.32133\n",
      "Training until validation scores don't improve for 50 rounds\n",
      "Early stopping, best iteration is:\n",
      "[1]\tvalid's auc: 0.5 + 0\n"
     ]
    },
    {
     "name": "stderr",
     "output_type": "stream",
     "text": [
      "[I 2025-05-25 19:15:55,602] Trial 8 finished with value: 0.0 and parameters: {'boosting_type': 'gbdt', 'num_leaves': 82, 'max_depth': 4, 'min_child_samples': 7780, 'learning_rate': 0.6973406012650494, 'feature_fraction': 0.10336446276158728, 'reg_alpha': 0.838618522306977, 'reg_lambda': 0.4730863444364619, 'subsample': 0.6031905750608654, 'num_boost_round': 420}. Best is trial 0 with value: 33.1542400759369.\n",
      "[I 2025-05-25 19:16:02,672] Trial 9 finished with value: 0.0 and parameters: {'boosting_type': 'dart', 'num_leaves': 89, 'max_depth': 6, 'min_child_samples': 8380, 'learning_rate': 0.8979953838012066, 'feature_fraction': 0.43525226983122245, 'reg_alpha': 0.5190553273942154, 'reg_lambda': 0.1608469663763592, 'subsample': 0.32539288813944833, 'num_boost_round': 380}. Best is trial 0 with value: 33.1542400759369.\n",
      "[I 2025-05-25 19:16:16,462] Trial 10 finished with value: 35.16592680968762 and parameters: {'boosting_type': 'dart', 'num_leaves': 157, 'max_depth': 2, 'min_child_samples': 2060, 'learning_rate': 0.4017745957843337, 'feature_fraction': 0.6644593275427114, 'reg_alpha': 0.30634206205159775, 'reg_lambda': 0.6079057111236352, 'subsample': 0.13475732153599407, 'num_boost_round': 460}. Best is trial 10 with value: 35.16592680968762.\n",
      "[I 2025-05-25 19:16:28,903] Trial 11 finished with value: 34.96299209598789 and parameters: {'boosting_type': 'dart', 'num_leaves': 169, 'max_depth': 2, 'min_child_samples': 2110, 'learning_rate': 0.3967686742183697, 'feature_fraction': 0.6723346188311121, 'reg_alpha': 0.28801478153449334, 'reg_lambda': 0.621681524422414, 'subsample': 0.102217009054001, 'num_boost_round': 470}. Best is trial 10 with value: 35.16592680968762.\n",
      "[I 2025-05-25 19:16:37,526] Trial 12 finished with value: -16.729063779729067 and parameters: {'boosting_type': 'dart', 'num_leaves': 173, 'max_depth': 2, 'min_child_samples': 3480, 'learning_rate': 0.4634631940082839, 'feature_fraction': 0.6761462420363353, 'reg_alpha': 0.24830474619936577, 'reg_lambda': 0.629358625770831, 'subsample': 0.10092361676899825, 'num_boost_round': 450}. Best is trial 10 with value: 35.16592680968762.\n",
      "[I 2025-05-25 19:16:46,792] Trial 13 finished with value: -15.649150697973617 and parameters: {'boosting_type': 'dart', 'num_leaves': 201, 'max_depth': 2, 'min_child_samples': 3730, 'learning_rate': 0.47498619052041663, 'feature_fraction': 0.7041193318515364, 'reg_alpha': 0.10600059865629552, 'reg_lambda': 0.6674648035482801, 'subsample': 0.10624202863340573, 'num_boost_round': 450}. Best is trial 10 with value: 35.16592680968762.\n",
      "[I 2025-05-25 19:17:01,366] Trial 14 finished with value: 36.332961491579006 and parameters: {'boosting_type': 'dart', 'num_leaves': 59, 'max_depth': 3, 'min_child_samples': 2000, 'learning_rate': 0.30090866993742393, 'feature_fraction': 0.6665480649815541, 'reg_alpha': 0.3563114020282201, 'reg_lambda': 0.7966644093565366, 'subsample': 0.6875601510526608, 'num_boost_round': 450}. Best is trial 14 with value: 36.332961491579006.\n",
      "[I 2025-05-25 19:17:09,089] Trial 15 finished with value: -16.093691549861063 and parameters: {'boosting_type': 'dart', 'num_leaves': 50, 'max_depth': 3, 'min_child_samples': 3550, 'learning_rate': 0.24507095043063615, 'feature_fraction': 0.7318042259287048, 'reg_alpha': 0.3859536605940265, 'reg_lambda': 0.857724873617477, 'subsample': 0.6841620370553924, 'num_boost_round': 440}. Best is trial 14 with value: 36.332961491579006.\n",
      "[I 2025-05-25 19:17:16,495] Trial 16 finished with value: -3.3542690977865774 and parameters: {'boosting_type': 'dart', 'num_leaves': 138, 'max_depth': 4, 'min_child_samples': 4090, 'learning_rate': 0.5799358112359659, 'feature_fraction': 0.3707311458588334, 'reg_alpha': 0.35131937418497855, 'reg_lambda': 0.774747184134501, 'subsample': 0.6989207449158326, 'num_boost_round': 350}. Best is trial 14 with value: 36.332961491579006.\n",
      "[I 2025-05-25 19:17:27,046] Trial 17 finished with value: 29.602127083983042 and parameters: {'boosting_type': 'dart', 'num_leaves': 56, 'max_depth': 3, 'min_child_samples': 2870, 'learning_rate': 0.22995369390591355, 'feature_fraction': 0.6044166461512969, 'reg_alpha': 0.1461204669482732, 'reg_lambda': 0.51974122816352, 'subsample': 0.47468858692261723, 'num_boost_round': 400}. Best is trial 14 with value: 36.332961491579006.\n",
      "[I 2025-05-25 19:17:34,125] Trial 18 finished with value: 0.0 and parameters: {'boosting_type': 'dart', 'num_leaves': 194, 'max_depth': 3, 'min_child_samples': 4370, 'learning_rate': 0.5420433841161288, 'feature_fraction': 0.8949864263080631, 'reg_alpha': 0.35430262966490655, 'reg_lambda': 0.7626083737918699, 'subsample': 0.5732274049859672, 'num_boost_round': 440}. Best is trial 14 with value: 36.332961491579006.\n",
      "[I 2025-05-25 19:17:45,160] Trial 19 finished with value: 28.57086006596508 and parameters: {'boosting_type': 'dart', 'num_leaves': 71, 'max_depth': 5, 'min_child_samples': 2890, 'learning_rate': 0.3951476873573293, 'feature_fraction': 0.2444591773196832, 'reg_alpha': 0.44215286733685716, 'reg_lambda': 0.5358161973114812, 'subsample': 0.40757323203421786, 'num_boost_round': 480}. Best is trial 14 with value: 36.332961491579006.\n",
      "[I 2025-05-25 19:17:52,157] Trial 20 finished with value: 0.0 and parameters: {'boosting_type': 'dart', 'num_leaves': 249, 'max_depth': 5, 'min_child_samples': 6420, 'learning_rate': 0.19389320111712882, 'feature_fraction': 0.6168021923849982, 'reg_alpha': 0.18622622470777705, 'reg_lambda': 0.7722866858547027, 'subsample': 0.6157697425874331, 'num_boost_round': 450}. Best is trial 14 with value: 36.332961491579006.\n",
      "[I 2025-05-25 19:18:04,854] Trial 21 finished with value: 34.60594039217127 and parameters: {'boosting_type': 'dart', 'num_leaves': 169, 'max_depth': 2, 'min_child_samples': 2150, 'learning_rate': 0.3853620007144579, 'feature_fraction': 0.7424798096187978, 'reg_alpha': 0.2887254673754943, 'reg_lambda': 0.5951816522014854, 'subsample': 0.18741574180613252, 'num_boost_round': 470}. Best is trial 14 with value: 36.332961491579006.\n",
      "[I 2025-05-25 19:18:17,287] Trial 22 finished with value: 35.467954519657205 and parameters: {'boosting_type': 'dart', 'num_leaves': 139, 'max_depth': 2, 'min_child_samples': 2030, 'learning_rate': 0.30578362290747474, 'feature_fraction': 0.6415142910402023, 'reg_alpha': 0.300751292976941, 'reg_lambda': 0.43954289983546185, 'subsample': 0.23841336858281045, 'num_boost_round': 460}. Best is trial 14 with value: 36.332961491579006.\n",
      "[I 2025-05-25 19:18:29,169] Trial 23 finished with value: 29.971824793297387 and parameters: {'boosting_type': 'dart', 'num_leaves': 140, 'max_depth': 3, 'min_child_samples': 2820, 'learning_rate': 0.2748122481117918, 'feature_fraction': 0.5980737935112829, 'reg_alpha': 0.4117817177118594, 'reg_lambda': 0.4146111596907539, 'subsample': 0.2360785733516469, 'num_boost_round': 440}. Best is trial 14 with value: 36.332961491579006.\n",
      "[I 2025-05-25 19:18:41,029] Trial 24 finished with value: 32.36329196340917 and parameters: {'boosting_type': 'dart', 'num_leaves': 122, 'max_depth': 2, 'min_child_samples': 2500, 'learning_rate': 0.3197164400001626, 'feature_fraction': 0.774742604320466, 'reg_alpha': 0.33530384053226586, 'reg_lambda': 0.7127420454078945, 'subsample': 0.16839988115419058, 'num_boost_round': 460}. Best is trial 14 with value: 36.332961491579006.\n",
      "[I 2025-05-25 19:18:51,581] Trial 25 finished with value: 28.690338659981585 and parameters: {'boosting_type': 'dart', 'num_leaves': 183, 'max_depth': 3, 'min_child_samples': 3010, 'learning_rate': 0.16670020895125667, 'feature_fraction': 0.4573303926207814, 'reg_alpha': 0.20723265569134086, 'reg_lambda': 0.44926144647950184, 'subsample': 0.418481642199637, 'num_boost_round': 430}. Best is trial 14 with value: 36.332961491579006.\n",
      "[I 2025-05-25 19:18:59,226] Trial 26 finished with value: -16.545030502921982 and parameters: {'boosting_type': 'dart', 'num_leaves': 151, 'max_depth': 4, 'min_child_samples': 3500, 'learning_rate': 0.44013974890202867, 'feature_fraction': 0.657550794585764, 'reg_alpha': 0.2928432394390567, 'reg_lambda': 0.5512379483337817, 'subsample': 0.28447218842560534, 'num_boost_round': 460}. Best is trial 14 with value: 36.332961491579006.\n",
      "[I 2025-05-25 19:19:12,690] Trial 27 finished with value: 32.266490226752076 and parameters: {'boosting_type': 'dart', 'num_leaves': 72, 'max_depth': 2, 'min_child_samples': 2350, 'learning_rate': 0.5214067047694352, 'feature_fraction': 0.5262976681964437, 'reg_alpha': 0.5834694945508374, 'reg_lambda': 0.8259334915810116, 'subsample': 0.26866482379882145, 'num_boost_round': 480}. Best is trial 14 with value: 36.332961491579006.\n",
      "[I 2025-05-25 19:19:22,854] Trial 28 finished with value: 19.128536018888603 and parameters: {'boosting_type': 'dart', 'num_leaves': 139, 'max_depth': 3, 'min_child_samples': 3240, 'learning_rate': 0.5852188944227319, 'feature_fraction': 0.6234863239965172, 'reg_alpha': 0.45809091210855546, 'reg_lambda': 0.3945551646814764, 'subsample': 0.36013030408682983, 'num_boost_round': 430}. Best is trial 14 with value: 36.332961491579006.\n",
      "[I 2025-05-25 19:19:30,732] Trial 29 finished with value: 0.0 and parameters: {'boosting_type': 'dart', 'num_leaves': 110, 'max_depth': 4, 'min_child_samples': 4120, 'learning_rate': 0.27553322581474154, 'feature_fraction': 0.4733043965481798, 'reg_alpha': 0.16617018585880505, 'reg_lambda': 0.3022385031497418, 'subsample': 0.1483900774455155, 'num_boost_round': 490}. Best is trial 14 with value: 36.332961491579006.\n",
      "[I 2025-05-25 19:19:42,825] Trial 30 finished with value: 31.58150372095482 and parameters: {'boosting_type': 'dart', 'num_leaves': 221, 'max_depth': 7, 'min_child_samples': 2520, 'learning_rate': 0.3394393642650949, 'feature_fraction': 0.769356325000233, 'reg_alpha': 0.2670036976880177, 'reg_lambda': 0.7131182584833167, 'subsample': 0.19619509630691506, 'num_boost_round': 460}. Best is trial 14 with value: 36.332961491579006.\n",
      "[I 2025-05-25 19:19:56,145] Trial 31 finished with value: 34.804951297070346 and parameters: {'boosting_type': 'dart', 'num_leaves': 182, 'max_depth': 2, 'min_child_samples': 2090, 'learning_rate': 0.39520228365599686, 'feature_fraction': 0.6873073274459331, 'reg_alpha': 0.3143512149437432, 'reg_lambda': 0.5793364712095168, 'subsample': 0.1342149137035291, 'num_boost_round': 480}. Best is trial 14 with value: 36.332961491579006.\n",
      "[I 2025-05-25 19:20:07,407] Trial 32 finished with value: 31.768890564289798 and parameters: {'boosting_type': 'dart', 'num_leaves': 155, 'max_depth': 2, 'min_child_samples': 2560, 'learning_rate': 0.3828135233338631, 'feature_fraction': 0.6435445438737832, 'reg_alpha': 0.3689107343386363, 'reg_lambda': 0.49371540948227505, 'subsample': 0.14086042881230743, 'num_boost_round': 490}. Best is trial 14 with value: 36.332961491579006.\n",
      "[I 2025-05-25 19:20:19,559] Trial 33 finished with value: 35.2294778434478 and parameters: {'boosting_type': 'dart', 'num_leaves': 126, 'max_depth': 3, 'min_child_samples': 2010, 'learning_rate': 0.443868120498507, 'feature_fraction': 0.570463190527131, 'reg_alpha': 0.42597265083123126, 'reg_lambda': 0.6418818819297444, 'subsample': 0.19564872008761822, 'num_boost_round': 460}. Best is trial 14 with value: 36.332961491579006.\n",
      "[I 2025-05-25 19:20:32,657] Trial 34 finished with value: 35.71362744018871 and parameters: {'boosting_type': 'dart', 'num_leaves': 126, 'max_depth': 3, 'min_child_samples': 2070, 'learning_rate': 0.2772693932390695, 'feature_fraction': 0.5635338194497792, 'reg_alpha': 0.46905997672411637, 'reg_lambda': 0.7026593697725556, 'subsample': 0.2034141496860563, 'num_boost_round': 450}. Best is trial 14 with value: 36.332961491579006.\n",
      "[I 2025-05-25 19:20:42,426] Trial 35 finished with value: 25.975733109571152 and parameters: {'boosting_type': 'dart', 'num_leaves': 126, 'max_depth': 3, 'min_child_samples': 3140, 'learning_rate': 0.10523340661262429, 'feature_fraction': 0.5575397026418447, 'reg_alpha': 0.46409622036589937, 'reg_lambda': 0.8200583818471036, 'subsample': 0.25979587357746775, 'num_boost_round': 440}. Best is trial 14 with value: 36.332961491579006.\n",
      "[I 2025-05-25 19:20:52,732] Trial 36 finished with value: 33.00617879980996 and parameters: {'boosting_type': 'dart', 'num_leaves': 101, 'max_depth': 5, 'min_child_samples': 2570, 'learning_rate': 0.21642802939901906, 'feature_fraction': 0.5071177034845062, 'reg_alpha': 0.41896967293101395, 'reg_lambda': 0.7154841833848183, 'subsample': 0.20252236729203907, 'num_boost_round': 410}. Best is trial 14 with value: 36.332961491579006.\n"
     ]
    },
    {
     "name": "stdout",
     "output_type": "stream",
     "text": [
      "Training until validation scores don't improve for 50 rounds\n",
      "Early stopping, best iteration is:\n",
      "[58]\ttrain's binary_error: 0.25953\toot's binary_error: 0.307083\n",
      "Training until validation scores don't improve for 50 rounds\n",
      "Early stopping, best iteration is:\n",
      "[1]\tvalid's auc: 0.5 + 0\n"
     ]
    },
    {
     "name": "stderr",
     "output_type": "stream",
     "text": [
      "[I 2025-05-25 19:20:59,209] Trial 37 finished with value: -11.012810297264863 and parameters: {'boosting_type': 'gbdt', 'num_leaves': 124, 'max_depth': 10, 'min_child_samples': 3910, 'learning_rate': 0.28595283234275093, 'feature_fraction': 0.3909306058373219, 'reg_alpha': 0.4989617545773439, 'reg_lambda': 0.31889563015818045, 'subsample': 0.36705851218387053, 'num_boost_round': 500}. Best is trial 14 with value: 36.332961491579006.\n"
     ]
    },
    {
     "name": "stdout",
     "output_type": "stream",
     "text": [
      "Training until validation scores don't improve for 50 rounds\n",
      "Early stopping, best iteration is:\n",
      "[1]\ttrain's binary_error: 0.282061\toot's binary_error: 0.32133\n",
      "Training until validation scores don't improve for 50 rounds\n",
      "Early stopping, best iteration is:\n",
      "[1]\tvalid's auc: 0.5 + 0\n"
     ]
    },
    {
     "name": "stderr",
     "output_type": "stream",
     "text": [
      "[I 2025-05-25 19:21:06,040] Trial 38 finished with value: 0.0 and parameters: {'boosting_type': 'gbdt', 'num_leaves': 130, 'max_depth': 4, 'min_child_samples': 4910, 'learning_rate': 0.34212990215911687, 'feature_fraction': 0.5806585151019611, 'reg_alpha': 0.6227061506182789, 'reg_lambda': 0.8910907593321717, 'subsample': 0.302368813814606, 'num_boost_round': 450}. Best is trial 14 with value: 36.332961491579006.\n",
      "[I 2025-05-25 19:21:13,756] Trial 39 finished with value: 0.0 and parameters: {'boosting_type': 'dart', 'num_leaves': 114, 'max_depth': 7, 'min_child_samples': 5810, 'learning_rate': 0.6231755102243127, 'feature_fraction': 0.2689115984491883, 'reg_alpha': 0.6511683309637238, 'reg_lambda': 0.23174990039033322, 'subsample': 0.2291298796504291, 'num_boost_round': 420}. Best is trial 14 with value: 36.332961491579006.\n"
     ]
    },
    {
     "name": "stdout",
     "output_type": "stream",
     "text": [
      "Training until validation scores don't improve for 50 rounds\n",
      "Early stopping, best iteration is:\n",
      "[57]\ttrain's binary_error: 0.228596\toot's binary_error: 0.303522\n",
      "Training until validation scores don't improve for 50 rounds\n",
      "Early stopping, best iteration is:\n",
      "[14]\tvalid's auc: 0.643078 + 0.0241157\n"
     ]
    },
    {
     "name": "stderr",
     "output_type": "stream",
     "text": [
      "[I 2025-05-25 19:21:21,594] Trial 40 finished with value: 7.090251993284344 and parameters: {'boosting_type': 'gbdt', 'num_leaves': 91, 'max_depth': 9, 'min_child_samples': 3260, 'learning_rate': 0.17476015609685908, 'feature_fraction': 0.5052868050207958, 'reg_alpha': 0.7385785258711678, 'reg_lambda': 0.7393523329535627, 'subsample': 0.44336714717858183, 'num_boost_round': 430}. Best is trial 14 with value: 36.332961491579006.\n",
      "[I 2025-05-25 19:21:36,557] Trial 41 finished with value: 35.7135438272111 and parameters: {'boosting_type': 'dart', 'num_leaves': 157, 'max_depth': 3, 'min_child_samples': 2060, 'learning_rate': 0.29913091650113144, 'feature_fraction': 0.5505123714030502, 'reg_alpha': 0.38826920376605667, 'reg_lambda': 0.6658095575500409, 'subsample': 0.17032130842494778, 'num_boost_round': 460}. Best is trial 14 with value: 36.332961491579006.\n",
      "[I 2025-05-25 19:21:53,085] Trial 42 finished with value: 33.83342195999573 and parameters: {'boosting_type': 'dart', 'num_leaves': 145, 'max_depth': 3, 'min_child_samples': 2350, 'learning_rate': 0.28836327658026667, 'feature_fraction': 0.5541449622345777, 'reg_alpha': 0.5304859726902686, 'reg_lambda': 0.6630474640146536, 'subsample': 0.17515208952368608, 'num_boost_round': 470}. Best is trial 14 with value: 36.332961491579006.\n",
      "[I 2025-05-25 19:22:07,312] Trial 43 finished with value: 34.71053649032811 and parameters: {'boosting_type': 'dart', 'num_leaves': 162, 'max_depth': 4, 'min_child_samples': 2070, 'learning_rate': 0.43684795667255305, 'feature_fraction': 0.4066170768871256, 'reg_alpha': 0.38949590631124503, 'reg_lambda': 0.8140905002796996, 'subsample': 0.20844974702492694, 'num_boost_round': 460}. Best is trial 14 with value: 36.332961491579006.\n",
      "[I 2025-05-25 19:22:18,693] Trial 44 finished with value: 30.369142208928345 and parameters: {'boosting_type': 'dart', 'num_leaves': 102, 'max_depth': 3, 'min_child_samples': 2750, 'learning_rate': 0.31795695536628343, 'feature_fraction': 0.5791050191072874, 'reg_alpha': 0.4798391112695755, 'reg_lambda': 0.6504078452259576, 'subsample': 0.3267188852754409, 'num_boost_round': 450}. Best is trial 14 with value: 36.332961491579006.\n",
      "[I 2025-05-25 19:22:30,938] Trial 45 finished with value: 36.426602054214904 and parameters: {'boosting_type': 'dart', 'num_leaves': 132, 'max_depth': 6, 'min_child_samples': 2020, 'learning_rate': 0.24056955392602355, 'feature_fraction': 0.480731458682269, 'reg_alpha': 0.5691267441987665, 'reg_lambda': 0.709991237434887, 'subsample': 0.2580416750299371, 'num_boost_round': 480}. Best is trial 45 with value: 36.426602054214904.\n",
      "[I 2025-05-25 19:22:41,506] Trial 46 finished with value: 33.98338318656908 and parameters: {'boosting_type': 'dart', 'num_leaves': 134, 'max_depth': 8, 'min_child_samples': 2340, 'learning_rate': 0.1274284715609637, 'feature_fraction': 0.3248070356627372, 'reg_alpha': 0.5808781889921927, 'reg_lambda': 0.692691035434585, 'subsample': 0.25160246148708126, 'num_boost_round': 480}. Best is trial 45 with value: 36.426602054214904.\n"
     ]
    },
    {
     "name": "stdout",
     "output_type": "stream",
     "text": [
      "Training until validation scores don't improve for 50 rounds\n",
      "Early stopping, best iteration is:\n",
      "[120]\ttrain's binary_error: 0.213738\toot's binary_error: 0.304313\n",
      "Training until validation scores don't improve for 50 rounds\n",
      "Early stopping, best iteration is:\n",
      "[181]\tvalid's auc: 0.758277 + 0.0156716\n"
     ]
    },
    {
     "name": "stderr",
     "output_type": "stream",
     "text": [
      "[I 2025-05-25 19:22:49,558] Trial 47 finished with value: 32.75492174706878 and parameters: {'boosting_type': 'gbdt', 'num_leaves': 82, 'max_depth': 6, 'min_child_samples': 2660, 'learning_rate': 0.2500972634661694, 'feature_fraction': 0.4768537115794827, 'reg_alpha': 0.5543592478177128, 'reg_lambda': 0.5668110969057849, 'subsample': 0.5032743347308586, 'num_boost_round': 490}. Best is trial 45 with value: 36.426602054214904.\n",
      "[I 2025-05-25 19:22:57,163] Trial 48 finished with value: 0.0 and parameters: {'boosting_type': 'dart', 'num_leaves': 116, 'max_depth': 7, 'min_child_samples': 8670, 'learning_rate': 0.2016115200191998, 'feature_fraction': 0.7173682192731416, 'reg_alpha': 0.7230047643832627, 'reg_lambda': 0.8030169790693177, 'subsample': 0.3365763580124198, 'num_boost_round': 470}. Best is trial 45 with value: 36.426602054214904.\n",
      "[I 2025-05-25 19:23:06,459] Trial 49 finished with value: 0.0 and parameters: {'boosting_type': 'dart', 'num_leaves': 145, 'max_depth': 8, 'min_child_samples': 7140, 'learning_rate': 0.3504846861929449, 'feature_fraction': 0.5299304350584282, 'reg_alpha': 0.247017227554536, 'reg_lambda': 0.8551027415977287, 'subsample': 0.2904206403121797, 'num_boost_round': 440}. Best is trial 45 with value: 36.426602054214904.\n",
      "[I 2025-05-25 19:23:16,331] Trial 50 finished with value: 26.249813812976313 and parameters: {'boosting_type': 'dart', 'num_leaves': 185, 'max_depth': 9, 'min_child_samples': 3120, 'learning_rate': 0.24644061531849837, 'feature_fraction': 0.4399401720898821, 'reg_alpha': 0.5174539746893828, 'reg_lambda': 0.45023654484250236, 'subsample': 0.5550405851499209, 'num_boost_round': 450}. Best is trial 45 with value: 36.426602054214904.\n",
      "[I 2025-05-25 19:23:28,711] Trial 51 finished with value: 36.84840790905042 and parameters: {'boosting_type': 'dart', 'num_leaves': 157, 'max_depth': 4, 'min_child_samples': 2000, 'learning_rate': 0.3005562895186483, 'feature_fraction': 0.6445882388518157, 'reg_alpha': 0.42263971002616396, 'reg_lambda': 0.739358615368787, 'subsample': 0.2247858676110818, 'num_boost_round': 460}. Best is trial 51 with value: 36.84840790905042.\n",
      "[I 2025-05-25 19:23:43,933] Trial 52 finished with value: 36.35244526009077 and parameters: {'boosting_type': 'dart', 'num_leaves': 161, 'max_depth': 4, 'min_child_samples': 2000, 'learning_rate': 0.2918892655968476, 'feature_fraction': 0.6358003054899501, 'reg_alpha': 0.39016422849128307, 'reg_lambda': 0.7636815306387331, 'subsample': 0.22791250782520087, 'num_boost_round': 470}. Best is trial 51 with value: 36.84840790905042.\n",
      "[I 2025-05-25 19:23:55,960] Trial 53 finished with value: 33.735965465547956 and parameters: {'boosting_type': 'dart', 'num_leaves': 160, 'max_depth': 5, 'min_child_samples': 2320, 'learning_rate': 0.3604416757741776, 'feature_fraction': 0.5321630672837512, 'reg_alpha': 0.8849943889708475, 'reg_lambda': 0.7531691777802694, 'subsample': 0.16083533532811164, 'num_boost_round': 480}. Best is trial 51 with value: 36.84840790905042.\n",
      "[I 2025-05-25 19:24:10,342] Trial 54 finished with value: 33.97256470853452 and parameters: {'boosting_type': 'dart', 'num_leaves': 175, 'max_depth': 4, 'min_child_samples': 2320, 'learning_rate': 0.16716789960658113, 'feature_fraction': 0.6913765796771077, 'reg_alpha': 0.39651258623262264, 'reg_lambda': 0.7885793671956485, 'subsample': 0.6689784915022627, 'num_boost_round': 470}. Best is trial 51 with value: 36.84840790905042.\n",
      "[I 2025-05-25 19:24:21,523] Trial 55 finished with value: 30.88031895441638 and parameters: {'boosting_type': 'dart', 'num_leaves': 203, 'max_depth': 6, 'min_child_samples': 2730, 'learning_rate': 0.2484488354093487, 'feature_fraction': 0.6141387614663435, 'reg_alpha': 0.3386541533193702, 'reg_lambda': 0.7366844783488873, 'subsample': 0.21075581349842726, 'num_boost_round': 490}. Best is trial 51 with value: 36.84840790905042.\n",
      "[I 2025-05-25 19:24:37,801] Trial 56 finished with value: 35.87862314413068 and parameters: {'boosting_type': 'dart', 'num_leaves': 151, 'max_depth': 5, 'min_child_samples': 2000, 'learning_rate': 0.2958173432772814, 'feature_fraction': 0.48486514300025096, 'reg_alpha': 0.47476817614097866, 'reg_lambda': 0.6811163527190548, 'subsample': 0.2726222580806403, 'num_boost_round': 450}. Best is trial 51 with value: 36.84840790905042.\n"
     ]
    },
    {
     "name": "stdout",
     "output_type": "stream",
     "text": [
      "Training until validation scores don't improve for 50 rounds\n",
      "Early stopping, best iteration is:\n",
      "[40]\ttrain's binary_error: 0.209962\toot's binary_error: 0.303918\n",
      "Training until validation scores don't improve for 50 rounds\n",
      "Early stopping, best iteration is:\n",
      "[85]\tvalid's auc: 0.769561 + 0.0168176\n"
     ]
    },
    {
     "name": "stderr",
     "output_type": "stream",
     "text": [
      "[I 2025-05-25 19:24:44,198] Trial 57 finished with value: 33.17536347543992 and parameters: {'boosting_type': 'gbdt', 'num_leaves': 171, 'max_depth': 5, 'min_child_samples': 2350, 'learning_rate': 0.7537699015332482, 'feature_fraction': 0.4168411869325891, 'reg_alpha': 0.5528865185088703, 'reg_lambda': 0.8453144819143605, 'subsample': 0.3831063461878386, 'num_boost_round': 450}. Best is trial 51 with value: 36.84840790905042.\n",
      "[I 2025-05-25 19:24:57,306] Trial 58 finished with value: 28.67854692505493 and parameters: {'boosting_type': 'dart', 'num_leaves': 147, 'max_depth': 5, 'min_child_samples': 2990, 'learning_rate': 0.22139596565147868, 'feature_fraction': 0.4854236237791385, 'reg_alpha': 0.4874759733570332, 'reg_lambda': 0.6901398826125248, 'subsample': 0.2761052026313853, 'num_boost_round': 470}. Best is trial 51 with value: 36.84840790905042.\n",
      "[I 2025-05-25 19:25:09,587] Trial 59 finished with value: 29.074947065454637 and parameters: {'boosting_type': 'dart', 'num_leaves': 62, 'max_depth': 6, 'min_child_samples': 2830, 'learning_rate': 0.14270141077830747, 'feature_fraction': 0.33479353165706627, 'reg_alpha': 0.4323260784600102, 'reg_lambda': 0.7707894733936165, 'subsample': 0.311267014938316, 'num_boost_round': 370}. Best is trial 51 with value: 36.84840790905042.\n",
      "[I 2025-05-25 19:25:18,859] Trial 60 finished with value: -17.14921868076418 and parameters: {'boosting_type': 'dart', 'num_leaves': 166, 'max_depth': 4, 'min_child_samples': 3360, 'learning_rate': 0.27068711228697184, 'feature_fraction': 0.7548753876028134, 'reg_alpha': 0.4598823361597619, 'reg_lambda': 0.6888198925173458, 'subsample': 0.24333617031773258, 'num_boost_round': 500}. Best is trial 51 with value: 36.84840790905042.\n",
      "[I 2025-05-25 19:25:33,971] Trial 61 finished with value: 36.11571373990833 and parameters: {'boosting_type': 'dart', 'num_leaves': 154, 'max_depth': 4, 'min_child_samples': 2020, 'learning_rate': 0.2978727982287488, 'feature_fraction': 0.5934979240109208, 'reg_alpha': 0.37156525957176567, 'reg_lambda': 0.7357982727237857, 'subsample': 0.11874871303759804, 'num_boost_round': 460}. Best is trial 51 with value: 36.84840790905042.\n",
      "[I 2025-05-25 19:25:48,290] Trial 62 finished with value: 34.60256994618734 and parameters: {'boosting_type': 'dart', 'num_leaves': 153, 'max_depth': 4, 'min_child_samples': 2300, 'learning_rate': 0.19504151361280003, 'feature_fraction': 0.6330107871210744, 'reg_alpha': 0.3640087495231372, 'reg_lambda': 0.6180466064073881, 'subsample': 0.21804653652287181, 'num_boost_round': 440}. Best is trial 51 with value: 36.84840790905042.\n",
      "[I 2025-05-25 19:26:00,359] Trial 63 finished with value: 32.02302048067533 and parameters: {'boosting_type': 'dart', 'num_leaves': 177, 'max_depth': 5, 'min_child_samples': 2570, 'learning_rate': 0.3625410741094615, 'feature_fraction': 0.5891524057276751, 'reg_alpha': 0.3203857694985744, 'reg_lambda': 0.7351380483542199, 'subsample': 0.12552531370433495, 'num_boost_round': 480}. Best is trial 51 with value: 36.84840790905042.\n",
      "[I 2025-05-25 19:26:13,258] Trial 64 finished with value: 35.98942046041811 and parameters: {'boosting_type': 'dart', 'num_leaves': 195, 'max_depth': 4, 'min_child_samples': 2010, 'learning_rate': 0.3183689827105586, 'feature_fraction': 0.8042878662588859, 'reg_alpha': 0.525741318653171, 'reg_lambda': 0.7848272602132624, 'subsample': 0.25899026043142986, 'num_boost_round': 450}. Best is trial 51 with value: 36.84840790905042.\n",
      "[I 2025-05-25 19:26:26,265] Trial 65 finished with value: 34.427567545642425 and parameters: {'boosting_type': 'dart', 'num_leaves': 227, 'max_depth': 4, 'min_child_samples': 2270, 'learning_rate': 0.32598461484858776, 'feature_fraction': 0.7965528487653839, 'reg_alpha': 0.5254050453991191, 'reg_lambda': 0.7865539076741147, 'subsample': 0.2657118752312548, 'num_boost_round': 460}. Best is trial 51 with value: 36.84840790905042.\n",
      "[I 2025-05-25 19:26:35,081] Trial 66 finished with value: -15.567392490234667 and parameters: {'boosting_type': 'dart', 'num_leaves': 191, 'max_depth': 6, 'min_child_samples': 3710, 'learning_rate': 0.4124380444653977, 'feature_fraction': 0.8022426036748388, 'reg_alpha': 0.5915296333273563, 'reg_lambda': 0.8844255291783376, 'subsample': 0.11423112617139083, 'num_boost_round': 470}. Best is trial 51 with value: 36.84840790905042.\n",
      "[I 2025-05-25 19:26:42,802] Trial 67 finished with value: 0.0 and parameters: {'boosting_type': 'dart', 'num_leaves': 196, 'max_depth': 5, 'min_child_samples': 6600, 'learning_rate': 0.30160742586973543, 'feature_fraction': 0.897543799623935, 'reg_alpha': 0.4400703563907698, 'reg_lambda': 0.8380021486002778, 'subsample': 0.33979453223305955, 'num_boost_round': 430}. Best is trial 51 with value: 36.84840790905042.\n",
      "[I 2025-05-25 19:26:51,079] Trial 68 finished with value: 0.0 and parameters: {'boosting_type': 'dart', 'num_leaves': 206, 'max_depth': 4, 'min_child_samples': 8080, 'learning_rate': 0.37126728449661633, 'feature_fraction': 0.8232080242441676, 'reg_alpha': 0.5050219547970677, 'reg_lambda': 0.798824654067519, 'subsample': 0.2959409165612088, 'num_boost_round': 470}. Best is trial 51 with value: 36.84840790905042.\n",
      "[I 2025-05-25 19:27:03,774] Trial 69 finished with value: 32.2012482892053 and parameters: {'boosting_type': 'dart', 'num_leaves': 166, 'max_depth': 5, 'min_child_samples': 2520, 'learning_rate': 0.25732110936337943, 'feature_fraction': 0.8542939250012505, 'reg_alpha': 0.6201402313086014, 'reg_lambda': 0.7625244474283369, 'subsample': 0.17898579200111442, 'num_boost_round': 440}. Best is trial 51 with value: 36.84840790905042.\n",
      "[I 2025-05-25 19:27:16,143] Trial 70 finished with value: 36.5756292143431 and parameters: {'boosting_type': 'dart', 'num_leaves': 219, 'max_depth': 4, 'min_child_samples': 2010, 'learning_rate': 0.3091384799104657, 'feature_fraction': 0.7143971479259602, 'reg_alpha': 0.4103112407132947, 'reg_lambda': 0.7417340011931193, 'subsample': 0.6356945139054277, 'num_boost_round': 450}. Best is trial 51 with value: 36.84840790905042.\n",
      "[I 2025-05-25 19:27:29,717] Trial 71 finished with value: 36.42225353785826 and parameters: {'boosting_type': 'dart', 'num_leaves': 243, 'max_depth': 4, 'min_child_samples': 2020, 'learning_rate': 0.22997596698326245, 'feature_fraction': 0.6583460799577782, 'reg_alpha': 0.3663916409880995, 'reg_lambda': 0.7377749145031408, 'subsample': 0.6768813479527303, 'num_boost_round': 450}. Best is trial 51 with value: 36.84840790905042.\n",
      "[I 2025-05-25 19:27:42,896] Trial 72 finished with value: 34.70213305505052 and parameters: {'boosting_type': 'dart', 'num_leaves': 244, 'max_depth': 4, 'min_child_samples': 2230, 'learning_rate': 0.2149191975541836, 'feature_fraction': 0.7148655913761853, 'reg_alpha': 0.3650165496639283, 'reg_lambda': 0.7268549430354486, 'subsample': 0.6366167822876768, 'num_boost_round': 450}. Best is trial 51 with value: 36.84840790905042.\n",
      "[I 2025-05-25 19:27:54,503] Trial 73 finished with value: 28.833754022596025 and parameters: {'boosting_type': 'dart', 'num_leaves': 213, 'max_depth': 4, 'min_child_samples': 2920, 'learning_rate': 0.2386167634399996, 'feature_fraction': 0.6640138809290954, 'reg_alpha': 0.4055085779138413, 'reg_lambda': 0.7536406246421308, 'subsample': 0.6615533195077972, 'num_boost_round': 460}. Best is trial 51 with value: 36.84840790905042.\n",
      "[I 2025-05-25 19:28:06,023] Trial 74 finished with value: 32.599015527870435 and parameters: {'boosting_type': 'dart', 'num_leaves': 239, 'max_depth': 4, 'min_child_samples': 2430, 'learning_rate': 0.3308962196570559, 'feature_fraction': 0.7368478696110653, 'reg_alpha': 0.33253163035150507, 'reg_lambda': 0.8730952870458293, 'subsample': 0.6922325535011062, 'num_boost_round': 460}. Best is trial 51 with value: 36.84840790905042.\n",
      "[I 2025-05-25 19:28:23,678] Trial 75 finished with value: 36.85278826480547 and parameters: {'boosting_type': 'dart', 'num_leaves': 236, 'max_depth': 3, 'min_child_samples': 2000, 'learning_rate': 0.2708904405679764, 'feature_fraction': 0.6830792138245536, 'reg_alpha': 0.3695615252304439, 'reg_lambda': 0.8304907820636096, 'subsample': 0.5983159014497188, 'num_boost_round': 480}. Best is trial 75 with value: 36.85278826480547.\n",
      "[I 2025-05-25 19:28:46,684] Trial 76 finished with value: 34.74564738064321 and parameters: {'boosting_type': 'dart', 'num_leaves': 234, 'max_depth': 3, 'min_child_samples': 2200, 'learning_rate': 0.267721243710215, 'feature_fraction': 0.6540445332821276, 'reg_alpha': 0.3593799957723895, 'reg_lambda': 0.8323845955476749, 'subsample': 0.602557616514803, 'num_boost_round': 480}. Best is trial 75 with value: 36.85278826480547.\n"
     ]
    },
    {
     "name": "stdout",
     "output_type": "stream",
     "text": [
      "Training until validation scores don't improve for 50 rounds\n",
      "Early stopping, best iteration is:\n",
      "[98]\ttrain's binary_error: 0.214468\toot's binary_error: 0.303918\n",
      "Training until validation scores don't improve for 50 rounds\n",
      "Early stopping, best iteration is:\n",
      "[317]\tvalid's auc: 0.757328 + 0.0163046\n"
     ]
    },
    {
     "name": "stderr",
     "output_type": "stream",
     "text": [
      "[I 2025-05-25 19:28:56,076] Trial 77 finished with value: 33.10563695804423 and parameters: {'boosting_type': 'gbdt', 'num_leaves': 213, 'max_depth': 3, 'min_child_samples': 2690, 'learning_rate': 0.18093319489210125, 'feature_fraction': 0.6741144868966764, 'reg_alpha': 0.3780914053345659, 'reg_lambda': 0.8161407308413431, 'subsample': 0.6295245954288261, 'num_boost_round': 490}. Best is trial 75 with value: 36.85278826480547.\n",
      "[I 2025-05-25 19:29:11,522] Trial 78 finished with value: 33.098961773982374 and parameters: {'boosting_type': 'dart', 'num_leaves': 250, 'max_depth': 3, 'min_child_samples': 2190, 'learning_rate': 0.5002455720451129, 'feature_fraction': 0.611530302074938, 'reg_alpha': 0.28417809666387966, 'reg_lambda': 0.7172634788656965, 'subsample': 0.651553787029176, 'num_boost_round': 480}. Best is trial 75 with value: 36.85278826480547.\n",
      "[I 2025-05-25 19:29:25,176] Trial 79 finished with value: 28.93117059515926 and parameters: {'boosting_type': 'dart', 'num_leaves': 223, 'max_depth': 4, 'min_child_samples': 2440, 'learning_rate': 0.8970475630742358, 'feature_fraction': 0.7106368334834675, 'reg_alpha': 0.4125845510604671, 'reg_lambda': 0.8670507107482632, 'subsample': 0.6000365052531312, 'num_boost_round': 470}. Best is trial 75 with value: 36.85278826480547.\n",
      "[I 2025-05-25 19:29:37,991] Trial 80 finished with value: 32.19337847090156 and parameters: {'boosting_type': 'dart', 'num_leaves': 240, 'max_depth': 2, 'min_child_samples': 2650, 'learning_rate': 0.2298052314931379, 'feature_fraction': 0.6896188806728321, 'reg_alpha': 0.3162442663930009, 'reg_lambda': 0.7557482953302298, 'subsample': 0.5796855279396413, 'num_boost_round': 500}. Best is trial 75 with value: 36.85278826480547.\n",
      "[I 2025-05-25 19:29:54,637] Trial 81 finished with value: 35.526734973757115 and parameters: {'boosting_type': 'dart', 'num_leaves': 228, 'max_depth': 4, 'min_child_samples': 2040, 'learning_rate': 0.3149214679389268, 'feature_fraction': 0.6330689958014349, 'reg_alpha': 0.43651810053626583, 'reg_lambda': 0.781011131187181, 'subsample': 0.6850891332655896, 'num_boost_round': 450}. Best is trial 75 with value: 36.85278826480547.\n",
      "[I 2025-05-25 19:30:12,429] Trial 82 finished with value: 36.331866923133774 and parameters: {'boosting_type': 'dart', 'num_leaves': 235, 'max_depth': 3, 'min_child_samples': 2000, 'learning_rate': 0.2818546063292841, 'feature_fraction': 0.7634567744710324, 'reg_alpha': 0.3428437207659171, 'reg_lambda': 0.7949378266491365, 'subsample': 0.6742167984399592, 'num_boost_round': 460}. Best is trial 75 with value: 36.85278826480547.\n",
      "[I 2025-05-25 19:30:27,835] Trial 83 finished with value: 34.64575433078845 and parameters: {'boosting_type': 'dart', 'num_leaves': 220, 'max_depth': 3, 'min_child_samples': 2210, 'learning_rate': 0.2685913940021251, 'feature_fraction': 0.7703970956737067, 'reg_alpha': 0.34312530432566707, 'reg_lambda': 0.8067248961962182, 'subsample': 0.6763579927542795, 'num_boost_round': 460}. Best is trial 75 with value: 36.85278826480547.\n",
      "[I 2025-05-25 19:30:35,065] Trial 84 finished with value: 0.0 and parameters: {'boosting_type': 'dart', 'num_leaves': 234, 'max_depth': 3, 'min_child_samples': 5270, 'learning_rate': 0.15075244536861693, 'feature_fraction': 0.74862810176494, 'reg_alpha': 0.272073822747317, 'reg_lambda': 0.74051078338246, 'subsample': 0.6528308976827711, 'num_boost_round': 480}. Best is trial 75 with value: 36.85278826480547.\n",
      "[I 2025-05-25 19:30:46,969] Trial 85 finished with value: 31.759735497400825 and parameters: {'boosting_type': 'dart', 'num_leaves': 237, 'max_depth': 2, 'min_child_samples': 2510, 'learning_rate': 0.4151188905828977, 'feature_fraction': 0.7279542135724388, 'reg_alpha': 0.3798591623159306, 'reg_lambda': 0.8304280846096879, 'subsample': 0.6320295205029551, 'num_boost_round': 470}. Best is trial 75 with value: 36.85278826480547.\n",
      "[I 2025-05-25 19:30:57,735] Trial 86 finished with value: 34.77319163317283 and parameters: {'boosting_type': 'dart', 'num_leaves': 244, 'max_depth': 3, 'min_child_samples': 2190, 'learning_rate': 0.2890208962259307, 'feature_fraction': 0.6467579949772553, 'reg_alpha': 0.40774333588329925, 'reg_lambda': 0.7061987450611554, 'subsample': 0.6959427819201522, 'num_boost_round': 460}. Best is trial 75 with value: 36.85278826480547.\n",
      "[I 2025-05-25 19:31:08,644] Trial 87 finished with value: 26.785530249810613 and parameters: {'boosting_type': 'dart', 'num_leaves': 217, 'max_depth': 4, 'min_child_samples': 3100, 'learning_rate': 0.20706891180102305, 'feature_fraction': 0.602142770188389, 'reg_alpha': 0.30604534783005644, 'reg_lambda': 0.8996114010825669, 'subsample': 0.6544864759767226, 'num_boost_round': 470}. Best is trial 75 with value: 36.85278826480547.\n",
      "[I 2025-05-25 19:31:18,324] Trial 88 finished with value: 29.329739192190843 and parameters: {'boosting_type': 'dart', 'num_leaves': 228, 'max_depth': 3, 'min_child_samples': 2820, 'learning_rate': 0.3418691140869217, 'feature_fraction': 0.6967080472484563, 'reg_alpha': 0.20614551954163488, 'reg_lambda': 0.6482099090693714, 'subsample': 0.5413564817971811, 'num_boost_round': 430}. Best is trial 75 with value: 36.85278826480547.\n"
     ]
    },
    {
     "name": "stdout",
     "output_type": "stream",
     "text": [
      "Training until validation scores don't improve for 50 rounds\n",
      "Early stopping, best iteration is:\n",
      "[47]\ttrain's binary_error: 0.21252\toot's binary_error: 0.304709\n",
      "Training until validation scores don't improve for 50 rounds\n",
      "Early stopping, best iteration is:\n",
      "[342]\tvalid's auc: 0.763683 + 0.0172994\n"
     ]
    },
    {
     "name": "stderr",
     "output_type": "stream",
     "text": [
      "[I 2025-05-25 19:31:28,033] Trial 89 finished with value: 34.64333289620396 and parameters: {'boosting_type': 'gbdt', 'num_leaves': 72, 'max_depth': 2, 'min_child_samples': 2500, 'learning_rate': 0.2572980737522253, 'feature_fraction': 0.6738761347138971, 'reg_alpha': 0.35467108908242573, 'reg_lambda': 0.7717178857050225, 'subsample': 0.6425993053586487, 'num_boost_round': 440}. Best is trial 75 with value: 36.85278826480547.\n",
      "[I 2025-05-25 19:31:40,151] Trial 90 finished with value: 35.48620239876266 and parameters: {'boosting_type': 'dart', 'num_leaves': 232, 'max_depth': 4, 'min_child_samples': 2160, 'learning_rate': 0.23480346823342957, 'feature_fraction': 0.6582514983496661, 'reg_alpha': 0.4503399925838377, 'reg_lambda': 0.7444321150712434, 'subsample': 0.6767984853815303, 'num_boost_round': 460}. Best is trial 75 with value: 36.85278826480547.\n",
      "[I 2025-05-25 19:31:53,844] Trial 91 finished with value: 36.163470684414904 and parameters: {'boosting_type': 'dart', 'num_leaves': 247, 'max_depth': 4, 'min_child_samples': 2000, 'learning_rate': 0.321459641821965, 'feature_fraction': 0.8725417906200988, 'reg_alpha': 0.39409558120483285, 'reg_lambda': 0.7924343327875715, 'subsample': 0.5831825229107586, 'num_boost_round': 450}. Best is trial 75 with value: 36.85278826480547.\n",
      "[I 2025-05-25 19:32:07,066] Trial 92 finished with value: 33.02587305020517 and parameters: {'boosting_type': 'dart', 'num_leaves': 242, 'max_depth': 4, 'min_child_samples': 2400, 'learning_rate': 0.3045211671726805, 'feature_fraction': 0.870843368651089, 'reg_alpha': 0.38519175814531004, 'reg_lambda': 0.8507390929144261, 'subsample': 0.6112850834462901, 'num_boost_round': 450}. Best is trial 75 with value: 36.85278826480547.\n",
      "[I 2025-05-25 19:32:19,206] Trial 93 finished with value: 35.85090895745132 and parameters: {'boosting_type': 'dart', 'num_leaves': 246, 'max_depth': 5, 'min_child_samples': 2040, 'learning_rate': 0.2839038761482358, 'feature_fraction': 0.1710359430489471, 'reg_alpha': 0.42269520777460284, 'reg_lambda': 0.12886711891068936, 'subsample': 0.5772096420936546, 'num_boost_round': 460}. Best is trial 75 with value: 36.85278826480547.\n",
      "[I 2025-05-25 19:32:35,027] Trial 94 finished with value: 35.744734901126066 and parameters: {'boosting_type': 'dart', 'num_leaves': 224, 'max_depth': 4, 'min_child_samples': 2010, 'learning_rate': 0.3535168140678643, 'feature_fraction': 0.6234383893199061, 'reg_alpha': 0.32881781901564144, 'reg_lambda': 0.7983286526510338, 'subsample': 0.6677164476786174, 'num_boost_round': 440}. Best is trial 75 with value: 36.85278826480547.\n",
      "[I 2025-05-25 19:32:47,090] Trial 95 finished with value: 33.86235154601447 and parameters: {'boosting_type': 'dart', 'num_leaves': 250, 'max_depth': 3, 'min_child_samples': 2190, 'learning_rate': 0.3770671033504183, 'feature_fraction': 0.8314962774283454, 'reg_alpha': 0.3427015174312338, 'reg_lambda': 0.7232404427767161, 'subsample': 0.6200409435617943, 'num_boost_round': 470}. Best is trial 75 with value: 36.85278826480547.\n",
      "[I 2025-05-25 19:32:59,580] Trial 96 finished with value: 32.86729085309547 and parameters: {'boosting_type': 'dart', 'num_leaves': 236, 'max_depth': 3, 'min_child_samples': 2400, 'learning_rate': 0.33489544459453735, 'feature_fraction': 0.7043986874426053, 'reg_alpha': 0.3943976860611843, 'reg_lambda': 0.679640359264362, 'subsample': 0.5917399055010385, 'num_boost_round': 490}. Best is trial 75 with value: 36.85278826480547.\n",
      "[I 2025-05-25 19:33:09,787] Trial 97 finished with value: 31.89381925993029 and parameters: {'boosting_type': 'dart', 'num_leaves': 80, 'max_depth': 4, 'min_child_samples': 2660, 'learning_rate': 0.18509996124818262, 'feature_fraction': 0.7615059711970747, 'reg_alpha': 0.36787078831328573, 'reg_lambda': 0.8170750200360203, 'subsample': 0.5057559167954495, 'num_boost_round': 390}. Best is trial 75 with value: 36.85278826480547.\n",
      "[I 2025-05-25 19:33:21,906] Trial 98 finished with value: 34.935206537639104 and parameters: {'boosting_type': 'dart', 'num_leaves': 142, 'max_depth': 5, 'min_child_samples': 2200, 'learning_rate': 0.2598585343229535, 'feature_fraction': 0.7256030232418255, 'reg_alpha': 0.29188644573575506, 'reg_lambda': 0.7690486659804937, 'subsample': 0.43981158702423684, 'num_boost_round': 450}. Best is trial 75 with value: 36.85278826480547.\n",
      "[I 2025-05-25 19:33:29,122] Trial 99 finished with value: 0.0 and parameters: {'boosting_type': 'dart', 'num_leaves': 246, 'max_depth': 3, 'min_child_samples': 4390, 'learning_rate': 0.30780151496271557, 'feature_fraction': 0.5909939706836121, 'reg_alpha': 0.2626433871183551, 'reg_lambda': 0.7019755781626806, 'subsample': 0.5575004363328344, 'num_boost_round': 350}. Best is trial 75 with value: 36.85278826480547.\n",
      "[I 2025-05-25 19:33:42,264] Trial 100 finished with value: 37.13203623354848 and parameters: {'boosting_type': 'dart', 'num_leaves': 133, 'max_depth': 7, 'min_child_samples': 2000, 'learning_rate': 0.2248385175837339, 'feature_fraction': 0.677438542884428, 'reg_alpha': 0.4220189973518679, 'reg_lambda': 0.7947499595849501, 'subsample': 0.6189075955720249, 'num_boost_round': 420}. Best is trial 100 with value: 37.13203623354848.\n",
      "[I 2025-05-25 19:33:52,376] Trial 101 finished with value: 34.62480470273974 and parameters: {'boosting_type': 'dart', 'num_leaves': 159, 'max_depth': 7, 'min_child_samples': 2320, 'learning_rate': 0.2291293702896146, 'feature_fraction': 0.6823443986253133, 'reg_alpha': 0.4087463568015048, 'reg_lambda': 0.7942206690167577, 'subsample': 0.6157849795798894, 'num_boost_round': 420}. Best is trial 100 with value: 37.13203623354848.\n",
      "[I 2025-05-25 19:34:02,489] Trial 102 finished with value: 35.63700245288928 and parameters: {'boosting_type': 'dart', 'num_leaves': 130, 'max_depth': 7, 'min_child_samples': 2130, 'learning_rate': 0.2866796441109544, 'feature_fraction': 0.6391833510463663, 'reg_alpha': 0.4471449894851468, 'reg_lambda': 0.7455880098533658, 'subsample': 0.6432597450011018, 'num_boost_round': 410}. Best is trial 100 with value: 37.13203623354848.\n",
      "[I 2025-05-25 19:34:16,190] Trial 103 finished with value: 37.13973975867 and parameters: {'boosting_type': 'dart', 'num_leaves': 95, 'max_depth': 8, 'min_child_samples': 2000, 'learning_rate': 0.20046574988999954, 'feature_fraction': 0.7841080809737077, 'reg_alpha': 0.42335344062109304, 'reg_lambda': 0.7786269727496581, 'subsample': 0.6998078368671368, 'num_boost_round': 420}. Best is trial 103 with value: 37.13973975867.\n",
      "[I 2025-05-25 19:34:28,601] Trial 104 finished with value: 31.642578702234417 and parameters: {'boosting_type': 'dart', 'num_leaves': 55, 'max_depth': 8, 'min_child_samples': 2550, 'learning_rate': 0.11602933829910256, 'feature_fraction': 0.7752608270423482, 'reg_alpha': 0.42503265104405885, 'reg_lambda': 0.8268908763745175, 'subsample': 0.6970323419169141, 'num_boost_round': 420}. Best is trial 103 with value: 37.13973975867.\n",
      "[I 2025-05-25 19:34:46,020] Trial 105 finished with value: 34.10292954054663 and parameters: {'boosting_type': 'dart', 'num_leaves': 97, 'max_depth': 9, 'min_child_samples': 2320, 'learning_rate': 0.20586483079071044, 'feature_fraction': 0.7826813597488576, 'reg_alpha': 0.489051369177673, 'reg_lambda': 0.862988916988747, 'subsample': 0.6805118280782524, 'num_boost_round': 410}. Best is trial 103 with value: 37.13973975867.\n",
      "[I 2025-05-25 19:34:57,876] Trial 106 finished with value: 31.345565287910276 and parameters: {'boosting_type': 'dart', 'num_leaves': 109, 'max_depth': 7, 'min_child_samples': 2710, 'learning_rate': 0.24393186692465912, 'feature_fraction': 0.8663597141749704, 'reg_alpha': 0.392895644077895, 'reg_lambda': 0.7743051004521992, 'subsample': 0.6251488720463755, 'num_boost_round': 400}. Best is trial 103 with value: 37.13973975867.\n"
     ]
    },
    {
     "name": "stdout",
     "output_type": "stream",
     "text": [
      "Training until validation scores don't improve for 50 rounds\n",
      "Early stopping, best iteration is:\n",
      "[112]\ttrain's binary_error: 0.211545\toot's binary_error: 0.305896\n",
      "Training until validation scores don't improve for 50 rounds\n",
      "Did not meet early stopping. Best iteration is:\n",
      "[416]\tvalid's auc: 0.765374 + 0.0177482\n"
     ]
    },
    {
     "name": "stderr",
     "output_type": "stream",
     "text": [
      "[I 2025-05-25 19:35:06,460] Trial 107 finished with value: 34.45192063262701 and parameters: {'boosting_type': 'gbdt', 'num_leaves': 114, 'max_depth': 9, 'min_child_samples': 2420, 'learning_rate': 0.15204213360958752, 'feature_fraction': 0.7384785910925781, 'reg_alpha': 0.3491183926647873, 'reg_lambda': 0.7958105303113892, 'subsample': 0.6623602442841597, 'num_boost_round': 430}. Best is trial 103 with value: 37.13973975867.\n",
      "[I 2025-05-25 19:35:18,851] Trial 108 finished with value: 37.36196555117266 and parameters: {'boosting_type': 'dart', 'num_leaves': 65, 'max_depth': 8, 'min_child_samples': 2000, 'learning_rate': 0.16258828432686942, 'feature_fraction': 0.790195731251833, 'reg_alpha': 0.4706291965625791, 'reg_lambda': 0.843544850928665, 'subsample': 0.2201996565688782, 'num_boost_round': 410}. Best is trial 108 with value: 37.36196555117266.\n",
      "[I 2025-05-25 19:35:28,642] Trial 109 finished with value: 28.599863385768984 and parameters: {'boosting_type': 'dart', 'num_leaves': 67, 'max_depth': 8, 'min_child_samples': 2920, 'learning_rate': 0.15800690302703227, 'feature_fraction': 0.7907586094895015, 'reg_alpha': 0.4636615685266844, 'reg_lambda': 0.8376946050124341, 'subsample': 0.18908153450680262, 'num_boost_round': 410}. Best is trial 108 with value: 37.36196555117266.\n",
      "[I 2025-05-25 19:35:35,559] Trial 110 finished with value: 0.0 and parameters: {'boosting_type': 'dart', 'num_leaves': 51, 'max_depth': 8, 'min_child_samples': 5940, 'learning_rate': 0.19025516259155156, 'feature_fraction': 0.8204204669647928, 'reg_alpha': 0.5724251685002066, 'reg_lambda': 0.8491126638365327, 'subsample': 0.24420332843679804, 'num_boost_round': 420}. Best is trial 108 with value: 37.36196555117266.\n",
      "[I 2025-05-25 19:35:46,201] Trial 111 finished with value: 37.23783351856391 and parameters: {'boosting_type': 'dart', 'num_leaves': 120, 'max_depth': 8, 'min_child_samples': 2000, 'learning_rate': 0.13227947312316157, 'feature_fraction': 0.750290881920387, 'reg_alpha': 0.43083880199036917, 'reg_lambda': 0.8124384845148819, 'subsample': 0.2181682256681394, 'num_boost_round': 400}. Best is trial 108 with value: 37.36196555117266.\n",
      "[I 2025-05-25 19:35:56,277] Trial 112 finished with value: 35.6660010212849 and parameters: {'boosting_type': 'dart', 'num_leaves': 76, 'max_depth': 8, 'min_child_samples': 2150, 'learning_rate': 0.1302300373473607, 'feature_fraction': 0.7572241182805478, 'reg_alpha': 0.4762805026486088, 'reg_lambda': 0.8112387568227846, 'subsample': 0.6870910588016367, 'num_boost_round': 400}. Best is trial 108 with value: 37.36196555117266.\n",
      "[I 2025-05-25 19:36:07,675] Trial 113 finished with value: 34.54928312868943 and parameters: {'boosting_type': 'dart', 'num_leaves': 87, 'max_depth': 8, 'min_child_samples': 2270, 'learning_rate': 0.1390063832246899, 'feature_fraction': 0.7211573186245022, 'reg_alpha': 0.43031337713908946, 'reg_lambda': 0.8757095534791585, 'subsample': 0.22511876356381266, 'num_boost_round': 400}. Best is trial 108 with value: 37.36196555117266.\n",
      "[I 2025-05-25 19:36:19,050] Trial 114 finished with value: 36.22955166935351 and parameters: {'boosting_type': 'dart', 'num_leaves': 135, 'max_depth': 8, 'min_child_samples': 2170, 'learning_rate': 0.21220057203535925, 'feature_fraction': 0.45458669883933694, 'reg_alpha': 0.4484609648767874, 'reg_lambda': 0.7627049136147027, 'subsample': 0.6705279075532999, 'num_boost_round': 410}. Best is trial 108 with value: 37.36196555117266.\n",
      "[I 2025-05-25 19:36:29,718] Trial 115 finished with value: 32.78241505313732 and parameters: {'boosting_type': 'dart', 'num_leaves': 67, 'max_depth': 7, 'min_child_samples': 2600, 'learning_rate': 0.17151264318471193, 'feature_fraction': 0.6996861529556483, 'reg_alpha': 0.505881490096787, 'reg_lambda': 0.8134444009674329, 'subsample': 0.21885262276081682, 'num_boost_round': 410}. Best is trial 108 with value: 37.36196555117266.\n",
      "[I 2025-05-25 19:36:39,168] Trial 116 finished with value: 32.04505543802682 and parameters: {'boosting_type': 'dart', 'num_leaves': 119, 'max_depth': 9, 'min_child_samples': 2420, 'learning_rate': 0.10498749593235004, 'feature_fraction': 0.7448019709191596, 'reg_alpha': 0.41259430770410854, 'reg_lambda': 0.7811427311452107, 'subsample': 0.23044097585240317, 'num_boost_round': 400}. Best is trial 108 with value: 37.36196555117266.\n",
      "[I 2025-05-25 19:36:50,507] Trial 117 finished with value: 37.086350017158146 and parameters: {'boosting_type': 'dart', 'num_leaves': 131, 'max_depth': 7, 'min_child_samples': 2000, 'learning_rate': 0.1962143011763928, 'feature_fraction': 0.6678553569318543, 'reg_alpha': 0.3743949781529192, 'reg_lambda': 0.2060205274475112, 'subsample': 0.6474701436903709, 'num_boost_round': 430}. Best is trial 108 with value: 37.36196555117266.\n",
      "[I 2025-05-25 19:37:01,478] Trial 118 finished with value: 34.90514525176251 and parameters: {'boosting_type': 'dart', 'num_leaves': 129, 'max_depth': 6, 'min_child_samples': 2280, 'learning_rate': 0.1903325433027503, 'feature_fraction': 0.6672788525476311, 'reg_alpha': 0.37501042075439744, 'reg_lambda': 0.16843262968319261, 'subsample': 0.20099940698079102, 'num_boost_round': 390}. Best is trial 108 with value: 37.36196555117266.\n",
      "[I 2025-05-25 19:37:14,238] Trial 119 finished with value: 35.50902232868138 and parameters: {'boosting_type': 'dart', 'num_leaves': 61, 'max_depth': 7, 'min_child_samples': 2130, 'learning_rate': 0.22296698932073034, 'feature_fraction': 0.6871709996561013, 'reg_alpha': 0.4921922228523676, 'reg_lambda': 0.7276528070963032, 'subsample': 0.6499784508672246, 'num_boost_round': 420}. Best is trial 108 with value: 37.36196555117266.\n",
      "[I 2025-05-25 19:37:22,359] Trial 120 finished with value: 0.0 and parameters: {'boosting_type': 'dart', 'num_leaves': 133, 'max_depth': 8, 'min_child_samples': 7570, 'learning_rate': 0.16740609723290667, 'feature_fraction': 0.6552817527504293, 'reg_alpha': 0.5409665554916337, 'reg_lambda': 0.47229424376910484, 'subsample': 0.15213418624006703, 'num_boost_round': 390}. Best is trial 108 with value: 37.36196555117266.\n",
      "[I 2025-05-25 19:37:36,232] Trial 121 finished with value: 37.33745544520946 and parameters: {'boosting_type': 'dart', 'num_leaves': 121, 'max_depth': 7, 'min_child_samples': 2000, 'learning_rate': 0.1217011405386807, 'feature_fraction': 0.7052214951779392, 'reg_alpha': 0.32425498240439915, 'reg_lambda': 0.3675091429363804, 'subsample': 0.69959815756465, 'num_boost_round': 420}. Best is trial 108 with value: 37.36196555117266.\n",
      "[I 2025-05-25 19:37:47,204] Trial 122 finished with value: 37.139473542069275 and parameters: {'boosting_type': 'dart', 'num_leaves': 119, 'max_depth': 7, 'min_child_samples': 2000, 'learning_rate': 0.11432278467246235, 'feature_fraction': 0.7087498474946767, 'reg_alpha': 0.6558870694765656, 'reg_lambda': 0.2138184975175152, 'subsample': 0.6582320165996214, 'num_boost_round': 430}. Best is trial 108 with value: 37.36196555117266.\n",
      "[I 2025-05-25 19:37:59,210] Trial 123 finished with value: 33.08113225632389 and parameters: {'boosting_type': 'dart', 'num_leaves': 106, 'max_depth': 7, 'min_child_samples': 2310, 'learning_rate': 0.10217054294883449, 'feature_fraction': 0.7106069106223268, 'reg_alpha': 0.6719590560618999, 'reg_lambda': 0.19995733764372392, 'subsample': 0.2513036891510974, 'num_boost_round': 420}. Best is trial 108 with value: 37.36196555117266.\n",
      "[I 2025-05-25 19:38:13,832] Trial 124 finished with value: 37.2175273889638 and parameters: {'boosting_type': 'dart', 'num_leaves': 121, 'max_depth': 7, 'min_child_samples': 2010, 'learning_rate': 0.1228451639495532, 'feature_fraction': 0.6760852215024862, 'reg_alpha': 0.6024996492515974, 'reg_lambda': 0.3337494315865931, 'subsample': 0.6999144611185137, 'num_boost_round': 430}. Best is trial 108 with value: 37.36196555117266.\n",
      "[I 2025-05-25 19:38:25,417] Trial 125 finished with value: 35.76357224811746 and parameters: {'boosting_type': 'dart', 'num_leaves': 124, 'max_depth': 7, 'min_child_samples': 2160, 'learning_rate': 0.12138417537087264, 'feature_fraction': 0.6762036453349898, 'reg_alpha': 0.6449627517747427, 'reg_lambda': 0.2537054872824867, 'subsample': 0.6966065875914252, 'num_boost_round': 430}. Best is trial 108 with value: 37.36196555117266.\n",
      "[I 2025-05-25 19:38:35,181] Trial 126 finished with value: 32.10883537125635 and parameters: {'boosting_type': 'dart', 'num_leaves': 116, 'max_depth': 7, 'min_child_samples': 2520, 'learning_rate': 0.14166902706990672, 'feature_fraction': 0.7284618715166851, 'reg_alpha': 0.6019513210357847, 'reg_lambda': 0.339841154005452, 'subsample': 0.6999596694171104, 'num_boost_round': 430}. Best is trial 108 with value: 37.36196555117266.\n",
      "[I 2025-05-25 19:38:46,755] Trial 127 finished with value: 35.60074088322242 and parameters: {'boosting_type': 'dart', 'num_leaves': 120, 'max_depth': 6, 'min_child_samples': 2140, 'learning_rate': 0.12598902353525568, 'feature_fraction': 0.81168232263733, 'reg_alpha': 0.7164196250883019, 'reg_lambda': 0.14601986825508942, 'subsample': 0.6578507490767648, 'num_boost_round': 420}. Best is trial 108 with value: 37.36196555117266.\n"
     ]
    },
    {
     "name": "stdout",
     "output_type": "stream",
     "text": [
      "Training until validation scores don't improve for 50 rounds\n",
      "Early stopping, best iteration is:\n",
      "[63]\ttrain's binary_error: 0.21252\toot's binary_error: 0.306688\n",
      "Training until validation scores don't improve for 50 rounds\n",
      "Did not meet early stopping. Best iteration is:\n",
      "[406]\tvalid's auc: 0.766025 + 0.0175785\n"
     ]
    },
    {
     "name": "stderr",
     "output_type": "stream",
     "text": [
      "[I 2025-05-25 19:38:55,675] Trial 128 finished with value: 35.00513732614962 and parameters: {'boosting_type': 'gbdt', 'num_leaves': 111, 'max_depth': 7, 'min_child_samples': 2400, 'learning_rate': 0.15317529707005517, 'feature_fraction': 0.7077201594791873, 'reg_alpha': 0.5692403386525124, 'reg_lambda': 0.28912843915123565, 'subsample': 0.6421253475247228, 'num_boost_round': 420}. Best is trial 108 with value: 37.36196555117266.\n",
      "[I 2025-05-25 19:39:11,793] Trial 129 finished with value: 37.09803336215509 and parameters: {'boosting_type': 'dart', 'num_leaves': 137, 'max_depth': 7, 'min_child_samples': 2010, 'learning_rate': 0.1740211007722674, 'feature_fraction': 0.7472425013255145, 'reg_alpha': 0.6396902742880101, 'reg_lambda': 0.19864117090363678, 'subsample': 0.6799963572917042, 'num_boost_round': 430}. Best is trial 108 with value: 37.36196555117266.\n",
      "[I 2025-05-25 19:39:26,417] Trial 130 finished with value: 34.71063563481467 and parameters: {'boosting_type': 'dart', 'num_leaves': 138, 'max_depth': 7, 'min_child_samples': 2250, 'learning_rate': 0.17415095891493923, 'feature_fraction': 0.8337372371100708, 'reg_alpha': 0.6343330898998989, 'reg_lambda': 0.19700656167417058, 'subsample': 0.6864612493388113, 'num_boost_round': 430}. Best is trial 108 with value: 37.36196555117266.\n",
      "[I 2025-05-25 19:39:39,507] Trial 131 finished with value: 37.09072661949579 and parameters: {'boosting_type': 'dart', 'num_leaves': 130, 'max_depth': 8, 'min_child_samples': 2000, 'learning_rate': 0.11715566340548583, 'feature_fraction': 0.7357831435868243, 'reg_alpha': 0.6598430722954507, 'reg_lambda': 0.22119699691345215, 'subsample': 0.6717168181223536, 'num_boost_round': 430}. Best is trial 108 with value: 37.36196555117266.\n",
      "[I 2025-05-25 19:39:47,479] Trial 132 finished with value: 0.0 and parameters: {'boosting_type': 'dart', 'num_leaves': 130, 'max_depth': 8, 'min_child_samples': 8970, 'learning_rate': 0.11281209438293935, 'feature_fraction': 0.7451203912963663, 'reg_alpha': 0.697467937388, 'reg_lambda': 0.22366166355588393, 'subsample': 0.6637156063482912, 'num_boost_round': 430}. Best is trial 108 with value: 37.36196555117266.\n",
      "[I 2025-05-25 19:39:58,774] Trial 133 finished with value: 37.588468315125525 and parameters: {'boosting_type': 'dart', 'num_leaves': 120, 'max_depth': 8, 'min_child_samples': 2010, 'learning_rate': 0.13219892766256297, 'feature_fraction': 0.7325601222313135, 'reg_alpha': 0.6567606825760339, 'reg_lambda': 0.3901628625859233, 'subsample': 0.6385496686567483, 'num_boost_round': 420}. Best is trial 133 with value: 37.588468315125525.\n",
      "[I 2025-05-25 19:40:09,764] Trial 134 finished with value: 37.434761001289644 and parameters: {'boosting_type': 'dart', 'num_leaves': 120, 'max_depth': 8, 'min_child_samples': 2000, 'learning_rate': 0.13541873252079178, 'feature_fraction': 0.7825591088910899, 'reg_alpha': 0.6682185571315381, 'reg_lambda': 0.3871273875784959, 'subsample': 0.6301874518674191, 'num_boost_round': 420}. Best is trial 133 with value: 37.588468315125525.\n",
      "[I 2025-05-25 19:40:24,022] Trial 135 finished with value: 35.70706436862673 and parameters: {'boosting_type': 'dart', 'num_leaves': 123, 'max_depth': 8, 'min_child_samples': 2140, 'learning_rate': 0.1350818140722923, 'feature_fraction': 0.776315334902252, 'reg_alpha': 0.6778102196553623, 'reg_lambda': 0.4088655680972204, 'subsample': 0.6122486148793169, 'num_boost_round': 420}. Best is trial 133 with value: 37.588468315125525.\n",
      "[I 2025-05-25 19:40:39,089] Trial 136 finished with value: 34.332147127247566 and parameters: {'boosting_type': 'dart', 'num_leaves': 118, 'max_depth': 8, 'min_child_samples': 2290, 'learning_rate': 0.15890998837923245, 'feature_fraction': 0.7844643979747088, 'reg_alpha': 0.6583702909800486, 'reg_lambda': 0.3746181264477486, 'subsample': 0.6474006591852925, 'num_boost_round': 420}. Best is trial 133 with value: 37.588468315125525.\n",
      "[I 2025-05-25 19:40:54,587] Trial 137 finished with value: 37.000069705155525 and parameters: {'boosting_type': 'dart', 'num_leaves': 126, 'max_depth': 8, 'min_child_samples': 2000, 'learning_rate': 0.12144738115707349, 'feature_fraction': 0.7392176876695001, 'reg_alpha': 0.763602832925416, 'reg_lambda': 0.3737165340418123, 'subsample': 0.6235095878837162, 'num_boost_round': 440}. Best is trial 133 with value: 37.588468315125525.\n",
      "[I 2025-05-25 19:41:05,493] Trial 138 finished with value: 32.33201673343023 and parameters: {'boosting_type': 'dart', 'num_leaves': 137, 'max_depth': 8, 'min_child_samples': 2480, 'learning_rate': 0.1170220933387644, 'feature_fraction': 0.7581107053850404, 'reg_alpha': 0.7435672161386977, 'reg_lambda': 0.35439592273527265, 'subsample': 0.6319358594280511, 'num_boost_round': 440}. Best is trial 133 with value: 37.588468315125525.\n",
      "[I 2025-05-25 19:41:20,334] Trial 139 finished with value: 36.00716647799136 and parameters: {'boosting_type': 'dart', 'num_leaves': 127, 'max_depth': 8, 'min_child_samples': 2130, 'learning_rate': 0.1379491839022405, 'feature_fraction': 0.7949047734268643, 'reg_alpha': 0.7788792914071891, 'reg_lambda': 0.37924971476821784, 'subsample': 0.6658252226257989, 'num_boost_round': 430}. Best is trial 133 with value: 37.588468315125525.\n",
      "[I 2025-05-25 19:41:35,511] Trial 140 finished with value: 37.41162176681014 and parameters: {'boosting_type': 'dart', 'num_leaves': 102, 'max_depth': 7, 'min_child_samples': 2000, 'learning_rate': 0.10283454910190684, 'feature_fraction': 0.7334151428348811, 'reg_alpha': 0.6885886025488788, 'reg_lambda': 0.100944623340069, 'subsample': 0.6037196872467624, 'num_boost_round': 410}. Best is trial 133 with value: 37.588468315125525.\n",
      "[I 2025-05-25 19:41:48,840] Trial 141 finished with value: 33.38011614865312 and parameters: {'boosting_type': 'dart', 'num_leaves': 99, 'max_depth': 7, 'min_child_samples': 2290, 'learning_rate': 0.10193484741003064, 'feature_fraction': 0.7386826058215566, 'reg_alpha': 0.695686500438361, 'reg_lambda': 0.32971973624523615, 'subsample': 0.5638282367435176, 'num_boost_round': 410}. Best is trial 133 with value: 37.588468315125525.\n",
      "[I 2025-05-25 19:42:04,149] Trial 142 finished with value: 36.11237954866717 and parameters: {'boosting_type': 'dart', 'num_leaves': 105, 'max_depth': 7, 'min_child_samples': 2110, 'learning_rate': 0.12744034109572666, 'feature_fraction': 0.7276628482452537, 'reg_alpha': 0.8310527650389656, 'reg_lambda': 0.19272288096616075, 'subsample': 0.5906979495835114, 'num_boost_round': 420}. Best is trial 133 with value: 37.588468315125525.\n",
      "[I 2025-05-25 19:42:15,630] Trial 143 finished with value: 37.35136376910262 and parameters: {'boosting_type': 'dart', 'num_leaves': 122, 'max_depth': 7, 'min_child_samples': 2000, 'learning_rate': 0.15122527479453163, 'feature_fraction': 0.7536918647564081, 'reg_alpha': 0.6648507986149684, 'reg_lambda': 0.42703440222589273, 'subsample': 0.6056285606890252, 'num_boost_round': 430}. Best is trial 133 with value: 37.588468315125525.\n",
      "[I 2025-05-25 19:42:32,176] Trial 144 finished with value: 37.305117057785985 and parameters: {'boosting_type': 'dart', 'num_leaves': 121, 'max_depth': 7, 'min_child_samples': 2000, 'learning_rate': 0.14766338004761953, 'feature_fraction': 0.7666174384549655, 'reg_alpha': 0.6632518758734705, 'reg_lambda': 0.4370847176289728, 'subsample': 0.6068448892021646, 'num_boost_round': 430}. Best is trial 133 with value: 37.588468315125525.\n",
      "[I 2025-05-25 19:42:39,006] Trial 145 finished with value: 0.0 and parameters: {'boosting_type': 'dart', 'num_leaves': 142, 'max_depth': 7, 'min_child_samples': 6920, 'learning_rate': 0.15442770125003563, 'feature_fraction': 0.8466987109225333, 'reg_alpha': 0.6984685497126906, 'reg_lambda': 0.11320061799306644, 'subsample': 0.6051770038218564, 'num_boost_round': 430}. Best is trial 133 with value: 37.588468315125525.\n",
      "[I 2025-05-25 19:42:51,447] Trial 146 finished with value: 32.50080651180869 and parameters: {'boosting_type': 'dart', 'num_leaves': 92, 'max_depth': 7, 'min_child_samples': 2420, 'learning_rate': 0.1785547217062377, 'feature_fraction': 0.7643323179385899, 'reg_alpha': 0.6613812217729959, 'reg_lambda': 0.4363803563806363, 'subsample': 0.6744989108063447, 'num_boost_round': 430}. Best is trial 133 with value: 37.588468315125525.\n",
      "[I 2025-05-25 19:43:02,714] Trial 147 finished with value: 34.70350074540138 and parameters: {'boosting_type': 'dart', 'num_leaves': 122, 'max_depth': 7, 'min_child_samples': 2240, 'learning_rate': 0.14130627153175407, 'feature_fraction': 0.8072432523847032, 'reg_alpha': 0.6373081412137228, 'reg_lambda': 0.40225491579929723, 'subsample': 0.6869465126020184, 'num_boost_round': 420}. Best is trial 133 with value: 37.588468315125525.\n",
      "[I 2025-05-25 19:43:14,816] Trial 148 finished with value: 31.47840515456995 and parameters: {'boosting_type': 'dart', 'num_leaves': 112, 'max_depth': 7, 'min_child_samples': 2600, 'learning_rate': 0.10170809395528362, 'feature_fraction': 0.7814640410641891, 'reg_alpha': 0.6889980012048598, 'reg_lambda': 0.4350598887107085, 'subsample': 0.6285307295426017, 'num_boost_round': 430}. Best is trial 133 with value: 37.588468315125525.\n",
      "[I 2025-05-25 19:43:25,720] Trial 149 finished with value: 37.29124323178354 and parameters: {'boosting_type': 'dart', 'num_leaves': 108, 'max_depth': 7, 'min_child_samples': 2000, 'learning_rate': 0.16298737165513394, 'feature_fraction': 0.7525349615917123, 'reg_alpha': 0.6086355567322906, 'reg_lambda': 0.28668954192040974, 'subsample': 0.6401907679146959, 'num_boost_round': 410}. Best is trial 133 with value: 37.588468315125525.\n"
     ]
    }
   ],
   "source": [
    "mlflow.set_experiment(\"lgbm_full_with_custom_metrics\")\n",
    "\n",
    "def objective(trial):\n",
    "    # Espaço de busca\n",
    "    params = {\n",
    "        \"objective\": \"binary\",\n",
    "        \"metric\": \"binary_error\",\n",
    "        \"is_unbalance\": False,\n",
    "        \"boosting_type\": trial.suggest_categorical(\"boosting_type\", [\"gbdt\", \"dart\"]),\n",
    "        \"num_leaves\": trial.suggest_int(\"num_leaves\", 50, 250),\n",
    "        \"max_depth\": trial.suggest_int(\"max_depth\", 2, 10),\n",
    "        \"min_child_samples\": trial.suggest_int(\"min_child_samples\", 2000, 9000, step=10),\n",
    "        \"learning_rate\": trial.suggest_float(\"learning_rate\", 0.1, 0.9),\n",
    "        \"feature_fraction\": trial.suggest_float(\"feature_fraction\", 0.1, 0.9),\n",
    "        \"reg_alpha\": trial.suggest_float(\"reg_alpha\", 0.1, 0.9),\n",
    "        \"reg_lambda\": trial.suggest_float(\"reg_lambda\", 0.1, 0.9),\n",
    "        \"subsample\": trial.suggest_float(\"subsample\", 0.1, 0.7),\n",
    "        \"verbosity\": -1\n",
    "    }\n",
    "    num_boost_round = trial.suggest_int(\"num_boost_round\", 350, 500, step=10)\n",
    "\n",
    "    # Preparar datasets\n",
    "    lgbm_train = lgb.Dataset(table_dev_X_train, label=table_dev_y_train)\n",
    "    lgbm_oot   = lgb.Dataset(table_oot_X, label=table_oot_y, reference=lgbm_train)\n",
    "\n",
    "    with mlflow.start_run(run_name=f\"run_{trial.number}\"):\n",
    "        # Treino com early stopping\n",
    "        model = lgb.train(\n",
    "            params,\n",
    "            lgbm_train,\n",
    "            num_boost_round=num_boost_round,\n",
    "            valid_sets=[lgbm_train, lgbm_oot],\n",
    "            valid_names=[\"train\", \"oot\"],\n",
    "            callbacks=[lgb.early_stopping(stopping_rounds=50)]\n",
    "        )\n",
    "\n",
    "        # Métricas DEV vs OOT\n",
    "        mt_train = metricas_models(table_dev_X_train, table_dev_y_train, model)\n",
    "        mt_oot   = metricas_models(table_oot_X, table_oot_y, model)\n",
    "\n",
    "        # Shifts absolutos em pontos percentuais\n",
    "        shift_gini  = (mt_oot[4] - mt_train[4]) * 1.0        # já em %\n",
    "        shift_ks    = (mt_oot[3] - mt_train[3]) * 1.0        # já em %\n",
    "        shift_f1    = (mt_oot[0] - mt_train[0]) * 1.0        # já em %\n",
    "        shift_f1c   = (mt_oot[8] - mt_train[8]) * 1.0        # já em %\n",
    "\n",
    "        # CV AUC\n",
    "        cv_res = lgb.cv(\n",
    "            params=params,\n",
    "            train_set=lgbm_train,\n",
    "            nfold=5,\n",
    "            stratified=True,\n",
    "            metrics=\"auc\",\n",
    "            num_boost_round=num_boost_round,\n",
    "            callbacks=[lgb.early_stopping(stopping_rounds=50)]\n",
    "        )\n",
    "        # encontrar chave contendo \"auc\" e \"mean\"\n",
    "        auc_key = next(k for k in cv_res if \"auc\" in k.lower() and \"mean\" in k.lower())\n",
    "        aucs = cv_res[auc_key]\n",
    "        auc_mean_cv  = np.mean(aucs) * 100\n",
    "        auc_min_cv   = np.min(aucs) * 100\n",
    "        auc_max_cv   = np.max(aucs) * 100\n",
    "        auc_ampl_cv  = auc_max_cv - auc_min_cv\n",
    "        auc_coefv_cv = coefval(aucs) * 100\n",
    "        gini_cv      = (np.mean(aucs) * 2 - 1) * 100\n",
    "\n",
    "        # Importâncias\n",
    "        imp_split = {f: int(i) for f, i in zip(features, model.feature_importance(\"split\"))}\n",
    "        imp_gain  = {f: i for f, i in zip(features, model.feature_importance(\"gain\"))}\n",
    "\n",
    "        # Log no MLflow\n",
    "        mlflow.log_params(params)\n",
    "        mlflow.log_param(\"num_boost_round\", num_boost_round)\n",
    "        mlflow.log_dict(imp_split, \"feat_imp_split.json\")\n",
    "        mlflow.log_dict(imp_gain, \"feat_imp_gain.json\")\n",
    "\n",
    "        mlflow.log_metrics({\n",
    "            # Train/OOT metrics\n",
    "            \"gini_train\":   round(mt_train[4],  2),\n",
    "            \"gini_oot\":     round(mt_oot[4],    2),\n",
    "            \"ks_train\":     round(mt_train[3],  2),\n",
    "            \"ks_oot\":       round(mt_oot[3],    2),\n",
    "            \"f1_train\":     round(mt_train[0],  2),\n",
    "            \"f1_oot\":       round(mt_oot[0],    2),\n",
    "            # Shifts\n",
    "            \"shift_gini\":  round(shift_gini,    2),\n",
    "            \"shift_ks\":    round(shift_ks,      2),\n",
    "            \"shift_f1\":    round(shift_f1,      2),\n",
    "            \"shift_f1_c\":  round(shift_f1c,     2),\n",
    "            # CV AUC/Gini\n",
    "            \"auc_mean_cv\":  round(auc_mean_cv,   2),\n",
    "            \"auc_min_cv\":   round(auc_min_cv,    2),\n",
    "            \"auc_max_cv\":   round(auc_max_cv,    2),\n",
    "            \"auc_ampl_cv\":  round(auc_ampl_cv,   2),\n",
    "            \"auc_coefv_cv\": round(auc_coefv_cv,  2),\n",
    "            \"gini_cv\":      round(gini_cv,       2),\n",
    "            # binary_error final\n",
    "            \"train_binary_error\": model.best_score[\"train\"][\"binary_error\"],\n",
    "            \"oot_binary_error\":   model.best_score[\"oot\"][\"binary_error\"],\n",
    "        })\n",
    "\n",
    "        # Log do modelo\n",
    "        signature = infer_signature(table_dev_X_train, model.predict(table_dev_X_train))\n",
    "        mlflow.lightgbm.log_model(model, \"model\", signature=signature)\n",
    "\n",
    "    # Objetivo: gini_cv penalizado pelo absolute shift de gini\n",
    "    return gini_cv - abs(shift_gini)\n",
    "\n",
    "# Executa o tuning\n",
    "study = optuna.create_study(direction=\"maximize\", study_name=\"lgbm_custom_metrics\")\n",
    "study.optimize(objective, n_trials=150)"
   ]
  },
  {
   "cell_type": "code",
   "execution_count": null,
   "id": "a15c435d",
   "metadata": {},
   "outputs": [],
   "source": []
  }
 ],
 "metadata": {
  "kernelspec": {
   "display_name": "venv",
   "language": "python",
   "name": "python3"
  },
  "language_info": {
   "codemirror_mode": {
    "name": "ipython",
    "version": 3
   },
   "file_extension": ".py",
   "mimetype": "text/x-python",
   "name": "python",
   "nbconvert_exporter": "python",
   "pygments_lexer": "ipython3",
   "version": "3.10.0"
  }
 },
 "nbformat": 4,
 "nbformat_minor": 5
}
